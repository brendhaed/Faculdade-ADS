{
  "nbformat": 4,
  "nbformat_minor": 0,
  "metadata": {
    "colab": {
      "provenance": [],
      "authorship_tag": "ABX9TyMic6qjZJ3NcctiPbEviCtt",
      "include_colab_link": true
    },
    "kernelspec": {
      "name": "python3",
      "display_name": "Python 3"
    },
    "language_info": {
      "name": "python"
    }
  },
  "cells": [
    {
      "cell_type": "markdown",
      "metadata": {
        "id": "view-in-github",
        "colab_type": "text"
      },
      "source": [
        "<a href=\"https://colab.research.google.com/github/brendhaed/Faculdade-ADS/blob/main/L%C3%B3gica%20e%20Programa%C3%A7%C3%A3o%20de%20Computadores/exercicios_aula_2_4.ipynb\" target=\"_parent\"><img src=\"https://colab.research.google.com/assets/colab-badge.svg\" alt=\"Open In Colab\"/></a>"
      ]
    },
    {
      "cell_type": "code",
      "execution_count": null,
      "metadata": {
        "colab": {
          "base_uri": "https://localhost:8080/"
        },
        "id": "5sJhrkun6f5Y",
        "outputId": "a67df6cd-a640-465d-cea6-3c6b66331699"
      },
      "outputs": [
        {
          "output_type": "stream",
          "name": "stdout",
          "text": [
            "Informe o valor do raio: \n",
            "2\n",
            "Volume: 33.510321638291124\n"
          ]
        }
      ],
      "source": [
        "import math\n",
        "\n",
        "print('Informe o valor do raio: ')\n",
        "raio = float(input())\n",
        "volume = 4/3 * math.pi * math.pow(raio,3)\n",
        "print('Volume:', volume)"
      ]
    },
    {
      "cell_type": "code",
      "source": [
        "import math\n",
        "print('Informe o valor do raio:')\n",
        "raio = float(input())\n",
        "a = 4*math.pi * math.pow(raio,2)\n",
        "print('Area da esfera: ', a)"
      ],
      "metadata": {
        "colab": {
          "base_uri": "https://localhost:8080/"
        },
        "id": "OIsU9SvQ85e3",
        "outputId": "5edf3e88-237b-4195-d615-52e40bac5eae"
      },
      "execution_count": null,
      "outputs": [
        {
          "output_type": "stream",
          "name": "stdout",
          "text": [
            "Informe o valor do raio:\n",
            "2\n",
            "Area da esfera:  50.26548245743669\n"
          ]
        }
      ]
    },
    {
      "cell_type": "code",
      "source": [
        "\n",
        "print('Informe um valor n:')\n",
        "n = float(input())\n",
        "\n",
        "print('n2 é igual:', n**2)\n",
        "print('n3 é igual:', n**3)\n",
        "print('n4 é igual a:', n**4)\n"
      ],
      "metadata": {
        "colab": {
          "base_uri": "https://localhost:8080/"
        },
        "id": "bM9dbHR2-oBj",
        "outputId": "30e4dc8b-eda8-4945-c9e6-b3681398c588"
      },
      "execution_count": null,
      "outputs": [
        {
          "output_type": "stream",
          "name": "stdout",
          "text": [
            "Informe um valor n:\n",
            "2\n",
            "n2 é igual: 4.0\n",
            "n3 é igual: 8.0\n",
            "n4 é igual a: 16.0\n"
          ]
        }
      ]
    }
  ]
}