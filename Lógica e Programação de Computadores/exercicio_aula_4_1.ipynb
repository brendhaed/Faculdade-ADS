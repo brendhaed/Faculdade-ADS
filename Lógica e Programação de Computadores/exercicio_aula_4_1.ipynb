{
  "nbformat": 4,
  "nbformat_minor": 0,
  "metadata": {
    "colab": {
      "provenance": [],
      "authorship_tag": "ABX9TyNX0WoWXNCrfFsbwWMOfDQl",
      "include_colab_link": true
    },
    "kernelspec": {
      "name": "python3",
      "display_name": "Python 3"
    },
    "language_info": {
      "name": "python"
    }
  },
  "cells": [
    {
      "cell_type": "markdown",
      "metadata": {
        "id": "view-in-github",
        "colab_type": "text"
      },
      "source": [
        "<a href=\"https://colab.research.google.com/github/brendhaed/Faculdade-ADS/blob/main/L%C3%B3gica%20e%20Programa%C3%A7%C3%A3o%20de%20Computadores/exercicio_aula_4_1.ipynb\" target=\"_parent\"><img src=\"https://colab.research.google.com/assets/colab-badge.svg\" alt=\"Open In Colab\"/></a>"
      ]
    },
    {
      "cell_type": "code",
      "execution_count": null,
      "metadata": {
        "colab": {
          "base_uri": "https://localhost:8080/"
        },
        "id": "sVLehmX0KjHM",
        "outputId": "9a3b2969-c70d-49e7-db37-6584de6d20dc"
      },
      "outputs": [
        {
          "output_type": "stream",
          "name": "stdout",
          "text": [
            "Informe a temperatura:-1\n",
            "Informe a umidade:70\n",
            "Clima muito frio\n"
          ]
        }
      ],
      "source": [
        "#Determinar as condições climáticas a partir de medições da temperatura e umidade atuais:\n",
        "# Temperatura acima de 30, e clima úmido (mais de 60%)\n",
        "# Temperatura acima de 30, e não úmido (menos de 60%)\n",
        "# Temperatura de 20 a 30\n",
        "# Temperatura de 10 a 20 (não incluindo)\n",
        "# Temperatura inferior a 10\n",
        "\n",
        "temperatura = float(input(\"Informe a temperatura:\"))\n",
        "umidade = int(input(\"Informe a umidade:\"))\n",
        "if temperatura >=30 and umidade>60:\n",
        "  print(\"Clima úmido\")\n",
        "elif temperatura >=30 and umidade<60:\n",
        "  print(\"Clima não úmido\")\n",
        "elif temperatura >=20 and temperatura <=30:\n",
        "  print(\"Clima moderado\")\n",
        "elif temperatura >=10 and temperatura <20:\n",
        "  print(\"Clima frio\")\n",
        "else:\n",
        "  print(\"Clima muito frio\")\n"
      ]
    }
  ]
}