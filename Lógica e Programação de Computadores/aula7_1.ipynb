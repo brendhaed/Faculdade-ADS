{
  "nbformat": 4,
  "nbformat_minor": 0,
  "metadata": {
    "colab": {
      "provenance": [],
      "authorship_tag": "ABX9TyPHe5MSM/Ud0bnummr6LEiI",
      "include_colab_link": true
    },
    "kernelspec": {
      "name": "python3",
      "display_name": "Python 3"
    },
    "language_info": {
      "name": "python"
    }
  },
  "cells": [
    {
      "cell_type": "markdown",
      "metadata": {
        "id": "view-in-github",
        "colab_type": "text"
      },
      "source": [
        "<a href=\"https://colab.research.google.com/github/brendhaed/Faculdade-ADS/blob/main/L%C3%B3gica%20e%20Programa%C3%A7%C3%A3o%20de%20Computadores/aula7_1.ipynb\" target=\"_parent\"><img src=\"https://colab.research.google.com/assets/colab-badge.svg\" alt=\"Open In Colab\"/></a>"
      ]
    },
    {
      "cell_type": "code",
      "execution_count": 21,
      "metadata": {
        "id": "d8wH0ErxYojI",
        "colab": {
          "base_uri": "https://localhost:8080/"
        },
        "outputId": "ee49ad63-58e7-49e7-8517-f6ff9a99bfcd"
      },
      "outputs": [
        {
          "output_type": "stream",
          "name": "stdout",
          "text": [
            "Mensagem\n",
            "Mensagem\n",
            "Outra mensagem\n",
            "Mensagem\n"
          ]
        }
      ],
      "source": [
        "# Exemplo 1\n",
        "def exibe():\n",
        "  \"\"\"Exibe uma mensagem (docstring)\"\"\"\n",
        "  print(\"Mensagem\")\n",
        "exibe()\n",
        "exibe()\n",
        "print(\"Outra mensagem\")\n",
        "exibe()\n"
      ]
    },
    {
      "cell_type": "code",
      "source": [
        "#Instalação do pacote ColabTurtlePlus:\n",
        "!pip3 install ColabTurtlePlus\n",
        "from ColabTurtlePlus.Turtle import *"
      ],
      "metadata": {
        "colab": {
          "base_uri": "https://localhost:8080/"
        },
        "id": "l_Xp27z3eAQy",
        "outputId": "88106256-9c14-44e1-9ca7-65df351a5df3"
      },
      "execution_count": 3,
      "outputs": [
        {
          "output_type": "stream",
          "name": "stdout",
          "text": [
            "Collecting ColabTurtlePlus\n",
            "  Downloading ColabTurtlePlus-2.0.1-py3-none-any.whl.metadata (10 kB)\n",
            "Downloading ColabTurtlePlus-2.0.1-py3-none-any.whl (31 kB)\n",
            "Installing collected packages: ColabTurtlePlus\n",
            "Successfully installed ColabTurtlePlus-2.0.1\n",
            "Put clearscreen() as the first line in a cell (after the import command) to re-run turtle commands in the cell\n"
          ]
        }
      ]
    },
    {
      "cell_type": "code",
      "source": [
        "#Exemplo 2: Desenhando um quadrado\n",
        "from ColabTurtlePlus.Turtle import *\n",
        "\n",
        "clearscreen()\n",
        "setup(600,400)\n",
        "bob = Turtle()\n",
        "bob.speed(6)\n",
        "for lado in range(4):\n",
        "  bob.forward(50)\n",
        "  bob.right(90)"
      ],
      "metadata": {
        "colab": {
          "base_uri": "https://localhost:8080/",
          "height": 422
        },
        "id": "OGPVxz0qe_W8",
        "outputId": "00b2fdfe-b03f-486e-95b5-3898c06644df"
      },
      "execution_count": 6,
      "outputs": [
        {
          "output_type": "display_data",
          "data": {
            "text/plain": [
              "<IPython.core.display.HTML object>"
            ],
            "text/html": [
              "\n",
              "      <svg width=\"600\" height=\"400\">  \n",
              "        <rect width=\"100%\" height=\"100%\" style=\"fill:white;stroke:;stroke-width:1\"/>\n",
              "        \n",
              "        \n",
              "        <line x1=\"300.0\" y1=\"200.0\" x2=\"350.0\" y2=\"200.0\" stroke-linecap=\"round\" style=\"stroke:black;stroke-width:1\" /><line x1=\"350.0\" y1=\"200.0\" x2=\"350.0\" y2=\"250.0\" stroke-linecap=\"round\" style=\"stroke:black;stroke-width:1\" /><line x1=\"350.0\" y1=\"250.0\" x2=\"300.0\" y2=\"250.0\" stroke-linecap=\"round\" style=\"stroke:black;stroke-width:1\" /><line x1=\"300.0\" y1=\"250.0\" x2=\"300.0\" y2=\"200.0\" stroke-linecap=\"round\" style=\"stroke:black;stroke-width:1\" />\n",
              "        \n",
              "        \n",
              "        <g id=\"classic\" visibility=\"visible\" transform=\"rotate(180,300.0,200.0) translate(300.0, 200.0)\">\n",
              "<polygon points=\"-5,-4.5 0,-2.5 5,-4.5 0,4.5\" transform=\"skewX(0) scale(1,1)\" style=\"stroke:black;fill:black;stroke-width:1\" />\n",
              "<animateTransform id = \"one\" attributeName=\"transform\" \n",
              "                      type=\"scale\"\n",
              "                      from=\"1 1\" to=\"1 1\"\n",
              "                      begin=\"0s\" dur=\"0.01s\"\n",
              "                      repeatCount=\"1\"\n",
              "                      additive=\"sum\"\n",
              "                      fill=\"freeze\"\n",
              "                /><animateTransform attributeName=\"transform\"\n",
              "                    type=\"rotate\"\n",
              "                    from=\"0 0 0\" to =\"90 0 0\"\n",
              "                    begin=\"one.end\" dur=\"0.2s\"\n",
              "                    repeatCount=\"1\"\n",
              "                    additive=\"sum\"\n",
              "                    fill=\"freeze\"\n",
              "                /></g>\n",
              "      </svg>\n",
              "    "
            ]
          },
          "metadata": {}
        }
      ]
    },
    {
      "cell_type": "code",
      "source": [
        "#Exemplo 3: desenhando vários quadrados\n",
        "from ColabTurtlePlus.Turtle import *\n",
        "clearscreen()\n",
        "setup(600,400)\n",
        "bob = Turtle()\n",
        "bob.speed(6)\n",
        "for lado in range(4):\n",
        "  bob.forward(50)\n",
        "  bob.right(90)\n",
        "\n",
        "for quad in range(4):\n",
        " for lado in range(4):\n",
        "  bob.forward(50)\n",
        "  bob.right(90)\n",
        " bob.penup()\n",
        " bob.left(90)\n",
        " bob.forward(70)\n",
        " bob.right(90)\n",
        " bob.pendown()"
      ],
      "metadata": {
        "colab": {
          "base_uri": "https://localhost:8080/",
          "height": 422
        },
        "id": "JsyTiOxlf_e2",
        "outputId": "f9fe2af9-04a9-4f89-e5c6-1ec73fd0cd80"
      },
      "execution_count": 17,
      "outputs": [
        {
          "output_type": "display_data",
          "data": {
            "text/plain": [
              "<IPython.core.display.HTML object>"
            ],
            "text/html": [
              "\n",
              "      <svg width=\"600\" height=\"400\">  \n",
              "        <rect width=\"100%\" height=\"100%\" style=\"fill:white;stroke:;stroke-width:1\"/>\n",
              "        \n",
              "        \n",
              "        <line x1=\"300.0\" y1=\"200.0\" x2=\"350.0\" y2=\"200.0\" stroke-linecap=\"round\" style=\"stroke:black;stroke-width:1\" /><line x1=\"350.0\" y1=\"200.0\" x2=\"350.0\" y2=\"250.0\" stroke-linecap=\"round\" style=\"stroke:black;stroke-width:1\" /><line x1=\"350.0\" y1=\"250.0\" x2=\"300.0\" y2=\"250.0\" stroke-linecap=\"round\" style=\"stroke:black;stroke-width:1\" /><line x1=\"300.0\" y1=\"250.0\" x2=\"300.0\" y2=\"200.0\" stroke-linecap=\"round\" style=\"stroke:black;stroke-width:1\" /><line x1=\"300.0\" y1=\"200.0\" x2=\"350.0\" y2=\"200.0\" stroke-linecap=\"round\" style=\"stroke:black;stroke-width:1\" /><line x1=\"350.0\" y1=\"200.0\" x2=\"350.0\" y2=\"250.0\" stroke-linecap=\"round\" style=\"stroke:black;stroke-width:1\" /><line x1=\"350.0\" y1=\"250.0\" x2=\"300.0\" y2=\"250.0\" stroke-linecap=\"round\" style=\"stroke:black;stroke-width:1\" /><line x1=\"300.0\" y1=\"250.0\" x2=\"300.0\" y2=\"200.0\" stroke-linecap=\"round\" style=\"stroke:black;stroke-width:1\" /><line x1=\"300.0\" y1=\"130.0\" x2=\"350.0\" y2=\"130.0\" stroke-linecap=\"round\" style=\"stroke:black;stroke-width:1\" /><line x1=\"350.0\" y1=\"130.0\" x2=\"350.0\" y2=\"180.0\" stroke-linecap=\"round\" style=\"stroke:black;stroke-width:1\" /><line x1=\"350.0\" y1=\"180.0\" x2=\"300.0\" y2=\"180.0\" stroke-linecap=\"round\" style=\"stroke:black;stroke-width:1\" /><line x1=\"300.0\" y1=\"180.0\" x2=\"300.0\" y2=\"130.0\" stroke-linecap=\"round\" style=\"stroke:black;stroke-width:1\" /><line x1=\"300.0\" y1=\"60.0\" x2=\"350.0\" y2=\"60.0\" stroke-linecap=\"round\" style=\"stroke:black;stroke-width:1\" /><line x1=\"350.0\" y1=\"60.0\" x2=\"350.0\" y2=\"110.0\" stroke-linecap=\"round\" style=\"stroke:black;stroke-width:1\" /><line x1=\"350.0\" y1=\"110.0\" x2=\"300.0\" y2=\"110.0\" stroke-linecap=\"round\" style=\"stroke:black;stroke-width:1\" /><line x1=\"300.0\" y1=\"110.0\" x2=\"300.0\" y2=\"60.0\" stroke-linecap=\"round\" style=\"stroke:black;stroke-width:1\" /><line x1=\"300.0\" y1=\"-10.0\" x2=\"350.0\" y2=\"-10.0\" stroke-linecap=\"round\" style=\"stroke:black;stroke-width:1\" /><line x1=\"350.0\" y1=\"-10.0\" x2=\"350.0\" y2=\"40.0\" stroke-linecap=\"round\" style=\"stroke:black;stroke-width:1\" /><line x1=\"350.0\" y1=\"40.0\" x2=\"300.0\" y2=\"40.0\" stroke-linecap=\"round\" style=\"stroke:black;stroke-width:1\" /><line x1=\"300.0\" y1=\"40.0\" x2=\"300.0\" y2=\"-10.0\" stroke-linecap=\"round\" style=\"stroke:black;stroke-width:1\" />\n",
              "        \n",
              "        \n",
              "        <g id=\"classic\" visibility=\"visible\" transform=\"rotate(180,300.0,-80.0) translate(300.0, -80.0)\">\n",
              "<polygon points=\"-5,-4.5 0,-2.5 5,-4.5 0,4.5\" transform=\"skewX(0) scale(1,1)\" style=\"stroke:black;fill:black;stroke-width:1\" />\n",
              "<animateTransform id = \"one\" attributeName=\"transform\" \n",
              "                      type=\"scale\"\n",
              "                      from=\"1 1\" to=\"1 1\"\n",
              "                      begin=\"0s\" dur=\"0.01s\"\n",
              "                      repeatCount=\"1\"\n",
              "                      additive=\"sum\"\n",
              "                      fill=\"freeze\"\n",
              "                /><animateTransform attributeName=\"transform\"\n",
              "                    type=\"rotate\"\n",
              "                    from=\"0 0 0\" to =\"90 0 0\"\n",
              "                    begin=\"one.end\" dur=\"0.2s\"\n",
              "                    repeatCount=\"1\"\n",
              "                    additive=\"sum\"\n",
              "                    fill=\"freeze\"\n",
              "                /></g>\n",
              "      </svg>\n",
              "    "
            ]
          },
          "metadata": {}
        }
      ]
    },
    {
      "cell_type": "code",
      "source": [
        "#Exemplo 4: desenhando vários quadrados (código melhorado)\n",
        "from ColabTurtlePlus.Turtle import *\n",
        "clearscreen()\n",
        "setup(600,400)\n",
        "bob = Turtle()\n",
        "bob.speed(6)\n",
        "for lado in range(4):\n",
        "  bob.forward(50)\n",
        "  bob.right(90)\n",
        "\n",
        "def quadrado():\n",
        " for lado in range(4):\n",
        "  bob.forward(50)\n",
        "  bob.right(90)\n",
        "\n",
        "for quad in range(4):\n",
        " quadrado()\n",
        " bob.penup()\n",
        " bob.left(90)\n",
        " bob.forward(70)\n",
        " bob.right(90)\n",
        " bob.pendown()\n"
      ],
      "metadata": {
        "colab": {
          "base_uri": "https://localhost:8080/",
          "height": 422
        },
        "id": "_o4auck4g_M6",
        "outputId": "bc0e9c40-7f3e-451d-c38a-fb5999bb5e61"
      },
      "execution_count": 18,
      "outputs": [
        {
          "output_type": "display_data",
          "data": {
            "text/plain": [
              "<IPython.core.display.HTML object>"
            ],
            "text/html": [
              "\n",
              "      <svg width=\"600\" height=\"400\">  \n",
              "        <rect width=\"100%\" height=\"100%\" style=\"fill:white;stroke:;stroke-width:1\"/>\n",
              "        \n",
              "        \n",
              "        <line x1=\"300.0\" y1=\"200.0\" x2=\"350.0\" y2=\"200.0\" stroke-linecap=\"round\" style=\"stroke:black;stroke-width:1\" /><line x1=\"350.0\" y1=\"200.0\" x2=\"350.0\" y2=\"250.0\" stroke-linecap=\"round\" style=\"stroke:black;stroke-width:1\" /><line x1=\"350.0\" y1=\"250.0\" x2=\"300.0\" y2=\"250.0\" stroke-linecap=\"round\" style=\"stroke:black;stroke-width:1\" /><line x1=\"300.0\" y1=\"250.0\" x2=\"300.0\" y2=\"200.0\" stroke-linecap=\"round\" style=\"stroke:black;stroke-width:1\" /><line x1=\"300.0\" y1=\"200.0\" x2=\"350.0\" y2=\"200.0\" stroke-linecap=\"round\" style=\"stroke:black;stroke-width:1\" /><line x1=\"350.0\" y1=\"200.0\" x2=\"350.0\" y2=\"250.0\" stroke-linecap=\"round\" style=\"stroke:black;stroke-width:1\" /><line x1=\"350.0\" y1=\"250.0\" x2=\"300.0\" y2=\"250.0\" stroke-linecap=\"round\" style=\"stroke:black;stroke-width:1\" /><line x1=\"300.0\" y1=\"250.0\" x2=\"300.0\" y2=\"200.0\" stroke-linecap=\"round\" style=\"stroke:black;stroke-width:1\" /><line x1=\"300.0\" y1=\"130.0\" x2=\"350.0\" y2=\"130.0\" stroke-linecap=\"round\" style=\"stroke:black;stroke-width:1\" /><line x1=\"350.0\" y1=\"130.0\" x2=\"350.0\" y2=\"180.0\" stroke-linecap=\"round\" style=\"stroke:black;stroke-width:1\" /><line x1=\"350.0\" y1=\"180.0\" x2=\"300.0\" y2=\"180.0\" stroke-linecap=\"round\" style=\"stroke:black;stroke-width:1\" /><line x1=\"300.0\" y1=\"180.0\" x2=\"300.0\" y2=\"130.0\" stroke-linecap=\"round\" style=\"stroke:black;stroke-width:1\" /><line x1=\"300.0\" y1=\"60.0\" x2=\"350.0\" y2=\"60.0\" stroke-linecap=\"round\" style=\"stroke:black;stroke-width:1\" /><line x1=\"350.0\" y1=\"60.0\" x2=\"350.0\" y2=\"110.0\" stroke-linecap=\"round\" style=\"stroke:black;stroke-width:1\" /><line x1=\"350.0\" y1=\"110.0\" x2=\"300.0\" y2=\"110.0\" stroke-linecap=\"round\" style=\"stroke:black;stroke-width:1\" /><line x1=\"300.0\" y1=\"110.0\" x2=\"300.0\" y2=\"60.0\" stroke-linecap=\"round\" style=\"stroke:black;stroke-width:1\" /><line x1=\"300.0\" y1=\"-10.0\" x2=\"350.0\" y2=\"-10.0\" stroke-linecap=\"round\" style=\"stroke:black;stroke-width:1\" /><line x1=\"350.0\" y1=\"-10.0\" x2=\"350.0\" y2=\"40.0\" stroke-linecap=\"round\" style=\"stroke:black;stroke-width:1\" /><line x1=\"350.0\" y1=\"40.0\" x2=\"300.0\" y2=\"40.0\" stroke-linecap=\"round\" style=\"stroke:black;stroke-width:1\" /><line x1=\"300.0\" y1=\"40.0\" x2=\"300.0\" y2=\"-10.0\" stroke-linecap=\"round\" style=\"stroke:black;stroke-width:1\" />\n",
              "        \n",
              "        \n",
              "        <g id=\"classic\" visibility=\"visible\" transform=\"rotate(180,300.0,-80.0) translate(300.0, -80.0)\">\n",
              "<polygon points=\"-5,-4.5 0,-2.5 5,-4.5 0,4.5\" transform=\"skewX(0) scale(1,1)\" style=\"stroke:black;fill:black;stroke-width:1\" />\n",
              "<animateTransform id = \"one\" attributeName=\"transform\" \n",
              "                      type=\"scale\"\n",
              "                      from=\"1 1\" to=\"1 1\"\n",
              "                      begin=\"0s\" dur=\"0.01s\"\n",
              "                      repeatCount=\"1\"\n",
              "                      additive=\"sum\"\n",
              "                      fill=\"freeze\"\n",
              "                /><animateTransform attributeName=\"transform\"\n",
              "                    type=\"rotate\"\n",
              "                    from=\"0 0 0\" to =\"90 0 0\"\n",
              "                    begin=\"one.end\" dur=\"0.2s\"\n",
              "                    repeatCount=\"1\"\n",
              "                    additive=\"sum\"\n",
              "                    fill=\"freeze\"\n",
              "                /></g>\n",
              "      </svg>\n",
              "    "
            ]
          },
          "metadata": {}
        }
      ]
    },
    {
      "cell_type": "code",
      "source": [
        "#Exemplo 5:Adicionando um parâmetro à função quadrado: o comprimento do lado do quadrado\n",
        "from ColabTurtlePlus.Turtle import *\n",
        "clearscreen()\n",
        "setup(600,400)\n",
        "bob = Turtle()\n",
        "bob.speed(6)\n",
        "for lado in range(4):\n",
        "  bob.forward(50)\n",
        "  bob.right(90)\n",
        "\n",
        "def quadrado(lado):\n",
        " for cont in range(4):\n",
        "  bob.forward(lado)\n",
        "  bob.right(90)\n",
        "\n",
        "for quad in range(4):\n",
        " quadrado(30)\n",
        " bob.penup()\n",
        " bob.left(90)\n",
        " bob.forward(50)\n",
        " bob.right(90)\n",
        " bob.pendown()\n"
      ],
      "metadata": {
        "colab": {
          "base_uri": "https://localhost:8080/",
          "height": 422
        },
        "id": "eiodxY61iK6W",
        "outputId": "49f66761-ceb2-4879-a3f7-3d21c22c86dc"
      },
      "execution_count": 19,
      "outputs": [
        {
          "output_type": "display_data",
          "data": {
            "text/plain": [
              "<IPython.core.display.HTML object>"
            ],
            "text/html": [
              "\n",
              "      <svg width=\"600\" height=\"400\">  \n",
              "        <rect width=\"100%\" height=\"100%\" style=\"fill:white;stroke:;stroke-width:1\"/>\n",
              "        \n",
              "        \n",
              "        <line x1=\"300.0\" y1=\"200.0\" x2=\"350.0\" y2=\"200.0\" stroke-linecap=\"round\" style=\"stroke:black;stroke-width:1\" /><line x1=\"350.0\" y1=\"200.0\" x2=\"350.0\" y2=\"250.0\" stroke-linecap=\"round\" style=\"stroke:black;stroke-width:1\" /><line x1=\"350.0\" y1=\"250.0\" x2=\"300.0\" y2=\"250.0\" stroke-linecap=\"round\" style=\"stroke:black;stroke-width:1\" /><line x1=\"300.0\" y1=\"250.0\" x2=\"300.0\" y2=\"200.0\" stroke-linecap=\"round\" style=\"stroke:black;stroke-width:1\" /><line x1=\"300.0\" y1=\"200.0\" x2=\"330.0\" y2=\"200.0\" stroke-linecap=\"round\" style=\"stroke:black;stroke-width:1\" /><line x1=\"330.0\" y1=\"200.0\" x2=\"330.0\" y2=\"230.0\" stroke-linecap=\"round\" style=\"stroke:black;stroke-width:1\" /><line x1=\"330.0\" y1=\"230.0\" x2=\"300.0\" y2=\"230.0\" stroke-linecap=\"round\" style=\"stroke:black;stroke-width:1\" /><line x1=\"300.0\" y1=\"230.0\" x2=\"300.0\" y2=\"200.0\" stroke-linecap=\"round\" style=\"stroke:black;stroke-width:1\" /><line x1=\"300.0\" y1=\"150.0\" x2=\"330.0\" y2=\"150.0\" stroke-linecap=\"round\" style=\"stroke:black;stroke-width:1\" /><line x1=\"330.0\" y1=\"150.0\" x2=\"330.0\" y2=\"180.0\" stroke-linecap=\"round\" style=\"stroke:black;stroke-width:1\" /><line x1=\"330.0\" y1=\"180.0\" x2=\"300.0\" y2=\"180.0\" stroke-linecap=\"round\" style=\"stroke:black;stroke-width:1\" /><line x1=\"300.0\" y1=\"180.0\" x2=\"300.0\" y2=\"150.0\" stroke-linecap=\"round\" style=\"stroke:black;stroke-width:1\" /><line x1=\"300.0\" y1=\"100.0\" x2=\"330.0\" y2=\"100.0\" stroke-linecap=\"round\" style=\"stroke:black;stroke-width:1\" /><line x1=\"330.0\" y1=\"100.0\" x2=\"330.0\" y2=\"130.0\" stroke-linecap=\"round\" style=\"stroke:black;stroke-width:1\" /><line x1=\"330.0\" y1=\"130.0\" x2=\"300.0\" y2=\"130.0\" stroke-linecap=\"round\" style=\"stroke:black;stroke-width:1\" /><line x1=\"300.0\" y1=\"130.0\" x2=\"300.0\" y2=\"100.0\" stroke-linecap=\"round\" style=\"stroke:black;stroke-width:1\" /><line x1=\"300.0\" y1=\"50.0\" x2=\"330.0\" y2=\"50.0\" stroke-linecap=\"round\" style=\"stroke:black;stroke-width:1\" /><line x1=\"330.0\" y1=\"50.0\" x2=\"330.0\" y2=\"80.0\" stroke-linecap=\"round\" style=\"stroke:black;stroke-width:1\" /><line x1=\"330.0\" y1=\"80.0\" x2=\"300.0\" y2=\"80.0\" stroke-linecap=\"round\" style=\"stroke:black;stroke-width:1\" /><line x1=\"300.0\" y1=\"80.0\" x2=\"300.0\" y2=\"50.0\" stroke-linecap=\"round\" style=\"stroke:black;stroke-width:1\" />\n",
              "        \n",
              "        \n",
              "        <g id=\"classic\" visibility=\"visible\" transform=\"rotate(180,300.0,0.0) translate(300.0, 0.0)\">\n",
              "<polygon points=\"-5,-4.5 0,-2.5 5,-4.5 0,4.5\" transform=\"skewX(0) scale(1,1)\" style=\"stroke:black;fill:black;stroke-width:1\" />\n",
              "<animateTransform id = \"one\" attributeName=\"transform\" \n",
              "                      type=\"scale\"\n",
              "                      from=\"1 1\" to=\"1 1\"\n",
              "                      begin=\"0s\" dur=\"0.01s\"\n",
              "                      repeatCount=\"1\"\n",
              "                      additive=\"sum\"\n",
              "                      fill=\"freeze\"\n",
              "                /><animateTransform attributeName=\"transform\"\n",
              "                    type=\"rotate\"\n",
              "                    from=\"0 0 0\" to =\"90 0 0\"\n",
              "                    begin=\"one.end\" dur=\"0.2s\"\n",
              "                    repeatCount=\"1\"\n",
              "                    additive=\"sum\"\n",
              "                    fill=\"freeze\"\n",
              "                /></g>\n",
              "      </svg>\n",
              "    "
            ]
          },
          "metadata": {}
        }
      ]
    },
    {
      "cell_type": "code",
      "source": [
        "#Exemplo 6: variando o tamanho do lado\n",
        "from ColabTurtlePlus.Turtle import *\n",
        "clearscreen()\n",
        "setup(600,400)\n",
        "bob = Turtle()\n",
        "bob.speed(6)\n",
        "\n",
        "for lado in range(4):\n",
        "  bob.forward(50)\n",
        "  bob.right(90)\n",
        "\n",
        "def quadrado(lado):\n",
        " for cont in range(4):\n",
        "  bob.forward(lado)\n",
        "  bob.right(90)\n",
        "\n",
        "tam = 20\n",
        "for i in range(15):\n",
        " quadrado(tam)\n",
        " tam = tam + 10\n",
        " bob.forward(10)\n",
        " bob.right(18)\n"
      ],
      "metadata": {
        "colab": {
          "base_uri": "https://localhost:8080/",
          "height": 422
        },
        "id": "5Y2RHfryjJ2H",
        "outputId": "140e220d-807a-41c4-89f0-a4e8cb84880d"
      },
      "execution_count": 20,
      "outputs": [
        {
          "output_type": "display_data",
          "data": {
            "text/plain": [
              "<IPython.core.display.HTML object>"
            ],
            "text/html": [
              "\n",
              "      <svg width=\"600\" height=\"400\">  \n",
              "        <rect width=\"100%\" height=\"100%\" style=\"fill:white;stroke:;stroke-width:1\"/>\n",
              "        \n",
              "        \n",
              "        <line x1=\"300.0\" y1=\"200.0\" x2=\"350.0\" y2=\"200.0\" stroke-linecap=\"round\" style=\"stroke:black;stroke-width:1\" /><line x1=\"350.0\" y1=\"200.0\" x2=\"350.0\" y2=\"250.0\" stroke-linecap=\"round\" style=\"stroke:black;stroke-width:1\" /><line x1=\"350.0\" y1=\"250.0\" x2=\"300.0\" y2=\"250.0\" stroke-linecap=\"round\" style=\"stroke:black;stroke-width:1\" /><line x1=\"300.0\" y1=\"250.0\" x2=\"300.0\" y2=\"200.0\" stroke-linecap=\"round\" style=\"stroke:black;stroke-width:1\" /><line x1=\"300.0\" y1=\"200.0\" x2=\"320.0\" y2=\"200.0\" stroke-linecap=\"round\" style=\"stroke:black;stroke-width:1\" /><line x1=\"320.0\" y1=\"200.0\" x2=\"320.0\" y2=\"220.0\" stroke-linecap=\"round\" style=\"stroke:black;stroke-width:1\" /><line x1=\"320.0\" y1=\"220.0\" x2=\"300.0\" y2=\"220.0\" stroke-linecap=\"round\" style=\"stroke:black;stroke-width:1\" /><line x1=\"300.0\" y1=\"220.0\" x2=\"300.0\" y2=\"200.0\" stroke-linecap=\"round\" style=\"stroke:black;stroke-width:1\" /><line x1=\"300.0\" y1=\"200.0\" x2=\"310.0\" y2=\"200.0\" stroke-linecap=\"round\" style=\"stroke:black;stroke-width:1\" /><line x1=\"310.0\" y1=\"200.0\" x2=\"338.532\" y2=\"209.271\" stroke-linecap=\"round\" style=\"stroke:black;stroke-width:1\" /><line x1=\"338.532\" y1=\"209.271\" x2=\"329.261\" y2=\"237.803\" stroke-linecap=\"round\" style=\"stroke:black;stroke-width:1\" /><line x1=\"329.261\" y1=\"237.803\" x2=\"300.729\" y2=\"228.532\" stroke-linecap=\"round\" style=\"stroke:black;stroke-width:1\" /><line x1=\"300.729\" y1=\"228.532\" x2=\"310.0\" y2=\"200.0\" stroke-linecap=\"round\" style=\"stroke:black;stroke-width:1\" /><line x1=\"310.0\" y1=\"200.0\" x2=\"319.511\" y2=\"203.09\" stroke-linecap=\"round\" style=\"stroke:black;stroke-width:1\" /><line x1=\"319.511\" y1=\"203.09\" x2=\"351.872\" y2=\"226.601\" stroke-linecap=\"round\" style=\"stroke:black;stroke-width:1\" /><line x1=\"351.872\" y1=\"226.601\" x2=\"328.361\" y2=\"258.962\" stroke-linecap=\"round\" style=\"stroke:black;stroke-width:1\" /><line x1=\"328.361\" y1=\"258.962\" x2=\"296.0\" y2=\"235.451\" stroke-linecap=\"round\" style=\"stroke:black;stroke-width:1\" /><line x1=\"296.0\" y1=\"235.451\" x2=\"319.511\" y2=\"203.09\" stroke-linecap=\"round\" style=\"stroke:black;stroke-width:1\" /><line x1=\"319.511\" y1=\"203.09\" x2=\"327.601\" y2=\"208.968\" stroke-linecap=\"round\" style=\"stroke:black;stroke-width:1\" /><line x1=\"327.601\" y1=\"208.968\" x2=\"356.99\" y2=\"249.419\" stroke-linecap=\"round\" style=\"stroke:black;stroke-width:1\" /><line x1=\"356.99\" y1=\"249.419\" x2=\"316.539\" y2=\"278.808\" stroke-linecap=\"round\" style=\"stroke:black;stroke-width:1\" /><line x1=\"316.539\" y1=\"278.808\" x2=\"287.15\" y2=\"238.357\" stroke-linecap=\"round\" style=\"stroke:black;stroke-width:1\" /><line x1=\"287.15\" y1=\"238.357\" x2=\"327.601\" y2=\"208.968\" stroke-linecap=\"round\" style=\"stroke:black;stroke-width:1\" /><line x1=\"327.601\" y1=\"208.968\" x2=\"333.479\" y2=\"217.058\" stroke-linecap=\"round\" style=\"stroke:black;stroke-width:1\" /><line x1=\"333.479\" y1=\"217.058\" x2=\"352.02\" y2=\"274.121\" stroke-linecap=\"round\" style=\"stroke:black;stroke-width:1\" /><line x1=\"352.02\" y1=\"274.121\" x2=\"294.957\" y2=\"292.662\" stroke-linecap=\"round\" style=\"stroke:black;stroke-width:1\" /><line x1=\"294.957\" y1=\"292.662\" x2=\"276.416\" y2=\"235.599\" stroke-linecap=\"round\" style=\"stroke:black;stroke-width:1\" /><line x1=\"276.416\" y1=\"235.599\" x2=\"333.479\" y2=\"217.058\" stroke-linecap=\"round\" style=\"stroke:black;stroke-width:1\" /><line x1=\"333.479\" y1=\"217.058\" x2=\"336.569\" y2=\"226.569\" stroke-linecap=\"round\" style=\"stroke:black;stroke-width:1\" /><line x1=\"336.569\" y1=\"226.569\" x2=\"336.569\" y2=\"296.569\" stroke-linecap=\"round\" style=\"stroke:black;stroke-width:1\" /><line x1=\"336.569\" y1=\"296.569\" x2=\"266.569\" y2=\"296.569\" stroke-linecap=\"round\" style=\"stroke:black;stroke-width:1\" /><line x1=\"266.569\" y1=\"296.569\" x2=\"266.569\" y2=\"226.569\" stroke-linecap=\"round\" style=\"stroke:black;stroke-width:1\" /><line x1=\"266.569\" y1=\"226.569\" x2=\"336.569\" y2=\"226.569\" stroke-linecap=\"round\" style=\"stroke:black;stroke-width:1\" /><line x1=\"336.569\" y1=\"226.569\" x2=\"336.569\" y2=\"236.569\" stroke-linecap=\"round\" style=\"stroke:black;stroke-width:1\" /><line x1=\"336.569\" y1=\"236.569\" x2=\"311.848\" y2=\"312.654\" stroke-linecap=\"round\" style=\"stroke:black;stroke-width:1\" /><line x1=\"311.848\" y1=\"312.654\" x2=\"235.763\" y2=\"287.933\" stroke-linecap=\"round\" style=\"stroke:black;stroke-width:1\" /><line x1=\"235.763\" y1=\"287.933\" x2=\"260.484\" y2=\"211.848\" stroke-linecap=\"round\" style=\"stroke:black;stroke-width:1\" /><line x1=\"260.484\" y1=\"211.848\" x2=\"336.569\" y2=\"236.569\" stroke-linecap=\"round\" style=\"stroke:black;stroke-width:1\" /><line x1=\"336.569\" y1=\"236.569\" x2=\"333.479\" y2=\"246.08\" stroke-linecap=\"round\" style=\"stroke:black;stroke-width:1\" /><line x1=\"333.479\" y1=\"246.08\" x2=\"280.578\" y2=\"318.892\" stroke-linecap=\"round\" style=\"stroke:black;stroke-width:1\" /><line x1=\"280.578\" y1=\"318.892\" x2=\"207.766\" y2=\"265.991\" stroke-linecap=\"round\" style=\"stroke:black;stroke-width:1\" /><line x1=\"207.766\" y1=\"265.991\" x2=\"260.667\" y2=\"193.179\" stroke-linecap=\"round\" style=\"stroke:black;stroke-width:1\" /><line x1=\"260.667\" y1=\"193.179\" x2=\"333.479\" y2=\"246.08\" stroke-linecap=\"round\" style=\"stroke:black;stroke-width:1\" /><line x1=\"333.479\" y1=\"246.08\" x2=\"327.601\" y2=\"254.17\" stroke-linecap=\"round\" style=\"stroke:black;stroke-width:1\" /><line x1=\"327.601\" y1=\"254.17\" x2=\"246.699\" y2=\"312.949\" stroke-linecap=\"round\" style=\"stroke:black;stroke-width:1\" /><line x1=\"246.699\" y1=\"312.949\" x2=\"187.92\" y2=\"232.047\" stroke-linecap=\"round\" style=\"stroke:black;stroke-width:1\" /><line x1=\"187.92\" y1=\"232.047\" x2=\"268.822\" y2=\"173.268\" stroke-linecap=\"round\" style=\"stroke:black;stroke-width:1\" /><line x1=\"268.822\" y1=\"173.268\" x2=\"327.601\" y2=\"254.17\" stroke-linecap=\"round\" style=\"stroke:black;stroke-width:1\" /><line x1=\"327.601\" y1=\"254.17\" x2=\"319.511\" y2=\"260.048\" stroke-linecap=\"round\" style=\"stroke:black;stroke-width:1\" /><line x1=\"319.511\" y1=\"260.048\" x2=\"214.895\" y2=\"294.04\" stroke-linecap=\"round\" style=\"stroke:black;stroke-width:1\" /><line x1=\"214.895\" y1=\"294.04\" x2=\"180.903\" y2=\"189.424\" stroke-linecap=\"round\" style=\"stroke:black;stroke-width:1\" /><line x1=\"180.903\" y1=\"189.424\" x2=\"285.519\" y2=\"155.432\" stroke-linecap=\"round\" style=\"stroke:black;stroke-width:1\" /><line x1=\"285.519\" y1=\"155.432\" x2=\"319.511\" y2=\"260.048\" stroke-linecap=\"round\" style=\"stroke:black;stroke-width:1\" /><line x1=\"319.511\" y1=\"260.048\" x2=\"310.0\" y2=\"263.138\" stroke-linecap=\"round\" style=\"stroke:black;stroke-width:1\" /><line x1=\"310.0\" y1=\"263.138\" x2=\"190.0\" y2=\"263.138\" stroke-linecap=\"round\" style=\"stroke:black;stroke-width:1\" /><line x1=\"190.0\" y1=\"263.138\" x2=\"190.0\" y2=\"143.138\" stroke-linecap=\"round\" style=\"stroke:black;stroke-width:1\" /><line x1=\"190.0\" y1=\"143.138\" x2=\"310.0\" y2=\"143.138\" stroke-linecap=\"round\" style=\"stroke:black;stroke-width:1\" /><line x1=\"310.0\" y1=\"143.138\" x2=\"310.0\" y2=\"263.138\" stroke-linecap=\"round\" style=\"stroke:black;stroke-width:1\" /><line x1=\"310.0\" y1=\"263.138\" x2=\"300.0\" y2=\"263.138\" stroke-linecap=\"round\" style=\"stroke:black;stroke-width:1\" /><line x1=\"300.0\" y1=\"263.138\" x2=\"176.363\" y2=\"222.966\" stroke-linecap=\"round\" style=\"stroke:black;stroke-width:1\" /><line x1=\"176.363\" y1=\"222.966\" x2=\"216.535\" y2=\"99.329\" stroke-linecap=\"round\" style=\"stroke:black;stroke-width:1\" /><line x1=\"216.535\" y1=\"99.329\" x2=\"340.172\" y2=\"139.501\" stroke-linecap=\"round\" style=\"stroke:black;stroke-width:1\" /><line x1=\"340.172\" y1=\"139.501\" x2=\"300.0\" y2=\"263.138\" stroke-linecap=\"round\" style=\"stroke:black;stroke-width:1\" /><line x1=\"300.0\" y1=\"263.138\" x2=\"290.489\" y2=\"260.048\" stroke-linecap=\"round\" style=\"stroke:black;stroke-width:1\" /><line x1=\"290.489\" y1=\"260.048\" x2=\"177.227\" y2=\"177.758\" stroke-linecap=\"round\" style=\"stroke:black;stroke-width:1\" /><line x1=\"177.227\" y1=\"177.758\" x2=\"259.517\" y2=\"64.496\" stroke-linecap=\"round\" style=\"stroke:black;stroke-width:1\" /><line x1=\"259.517\" y1=\"64.496\" x2=\"372.779\" y2=\"146.786\" stroke-linecap=\"round\" style=\"stroke:black;stroke-width:1\" /><line x1=\"372.779\" y1=\"146.786\" x2=\"290.489\" y2=\"260.048\" stroke-linecap=\"round\" style=\"stroke:black;stroke-width:1\" /><line x1=\"290.489\" y1=\"260.048\" x2=\"282.399\" y2=\"254.17\" stroke-linecap=\"round\" style=\"stroke:black;stroke-width:1\" /><line x1=\"282.399\" y1=\"254.17\" x2=\"194.231\" y2=\"132.817\" stroke-linecap=\"round\" style=\"stroke:black;stroke-width:1\" /><line x1=\"194.231\" y1=\"132.817\" x2=\"315.584\" y2=\"44.649\" stroke-linecap=\"round\" style=\"stroke:black;stroke-width:1\" /><line x1=\"315.584\" y1=\"44.649\" x2=\"403.752\" y2=\"166.002\" stroke-linecap=\"round\" style=\"stroke:black;stroke-width:1\" /><line x1=\"403.752\" y1=\"166.002\" x2=\"282.399\" y2=\"254.17\" stroke-linecap=\"round\" style=\"stroke:black;stroke-width:1\" /><line x1=\"282.399\" y1=\"254.17\" x2=\"276.521\" y2=\"246.08\" stroke-linecap=\"round\" style=\"stroke:black;stroke-width:1\" /><line x1=\"276.521\" y1=\"246.08\" x2=\"227.078\" y2=\"93.911\" stroke-linecap=\"round\" style=\"stroke:black;stroke-width:1\" /><line x1=\"227.078\" y1=\"93.911\" x2=\"379.247\" y2=\"44.468\" stroke-linecap=\"round\" style=\"stroke:black;stroke-width:1\" /><line x1=\"379.247\" y1=\"44.468\" x2=\"428.69\" y2=\"196.637\" stroke-linecap=\"round\" style=\"stroke:black;stroke-width:1\" /><line x1=\"428.69\" y1=\"196.637\" x2=\"276.521\" y2=\"246.08\" stroke-linecap=\"round\" style=\"stroke:black;stroke-width:1\" /><line x1=\"276.521\" y1=\"246.08\" x2=\"273.431\" y2=\"236.569\" stroke-linecap=\"round\" style=\"stroke:black;stroke-width:1\" />\n",
              "        \n",
              "        \n",
              "        <g id=\"classic\" visibility=\"visible\" transform=\"rotate(162,273.431,236.569) translate(273.431, 236.569)\">\n",
              "<polygon points=\"-5,-4.5 0,-2.5 5,-4.5 0,4.5\" transform=\"skewX(0) scale(1,1)\" style=\"stroke:black;fill:black;stroke-width:1\" />\n",
              "<animateTransform id = \"one\" attributeName=\"transform\" \n",
              "                      type=\"scale\"\n",
              "                      from=\"1 1\" to=\"1 1\"\n",
              "                      begin=\"0s\" dur=\"0.01s\"\n",
              "                      repeatCount=\"1\"\n",
              "                      additive=\"sum\"\n",
              "                      fill=\"freeze\"\n",
              "                /><animateTransform attributeName=\"transform\"\n",
              "                    type=\"rotate\"\n",
              "                    from=\"0 0 0\" to =\"18 0 0\"\n",
              "                    begin=\"one.end\" dur=\"0.04s\"\n",
              "                    repeatCount=\"1\"\n",
              "                    additive=\"sum\"\n",
              "                    fill=\"freeze\"\n",
              "                /></g>\n",
              "      </svg>\n",
              "    "
            ]
          },
          "metadata": {}
        }
      ]
    }
  ]
}