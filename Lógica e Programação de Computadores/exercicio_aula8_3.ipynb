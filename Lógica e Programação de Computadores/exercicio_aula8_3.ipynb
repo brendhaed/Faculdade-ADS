{
  "nbformat": 4,
  "nbformat_minor": 0,
  "metadata": {
    "colab": {
      "provenance": [],
      "authorship_tag": "ABX9TyPHkc8P9J7UyPKmA2HGS6u/",
      "include_colab_link": true
    },
    "kernelspec": {
      "name": "python3",
      "display_name": "Python 3"
    },
    "language_info": {
      "name": "python"
    }
  },
  "cells": [
    {
      "cell_type": "markdown",
      "metadata": {
        "id": "view-in-github",
        "colab_type": "text"
      },
      "source": [
        "<a href=\"https://colab.research.google.com/github/brendhaed/Faculdade-ADS/blob/main/L%C3%B3gica%20e%20Programa%C3%A7%C3%A3o%20de%20Computadores/exercicio_aula8_3.ipynb\" target=\"_parent\"><img src=\"https://colab.research.google.com/assets/colab-badge.svg\" alt=\"Open In Colab\"/></a>"
      ]
    },
    {
      "cell_type": "code",
      "execution_count": 8,
      "metadata": {
        "colab": {
          "base_uri": "https://localhost:8080/"
        },
        "id": "J6gGRm8powGH",
        "outputId": "5b9d8e82-202a-4e8c-87bf-ec80b84d8bb7"
      },
      "outputs": [
        {
          "output_type": "stream",
          "name": "stdout",
          "text": [
            "Cont 1\n",
            "Informe o tamanho usando os valores P, M ou G:P\n",
            "Informe a cor usando 1 para Branco, 2 para preto, 3 para azul2\n",
            "Cont 2\n",
            "Informe o tamanho usando os valores P, M ou G:M\n",
            "Informe a cor usando 1 para Branco, 2 para preto, 3 para azul3\n",
            "Cont 3\n",
            "Informe o tamanho usando os valores P, M ou G:P\n",
            "Informe a cor usando 1 para Branco, 2 para preto, 3 para azul1\n",
            "Cont 4\n",
            "Informe o tamanho usando os valores P, M ou G:M\n",
            "Informe a cor usando 1 para Branco, 2 para preto, 3 para azul2\n",
            "Cont 5\n",
            "Informe o tamanho usando os valores P, M ou G:G\n",
            "Informe a cor usando 1 para Branco, 2 para preto, 3 para azul3\n",
            "\n",
            "\n",
            "[('P', 'preto'), ('M', 'azul'), ('P', 'branco'), ('M', 'preto'), ('G', 'azul')]\n",
            "[('Pequeno', 2), ('Medio', 2), ('Grande', 1)]\n",
            "\n",
            "\n",
            "Tamano que mais vendeu: Pequeno vendeu 2 peças\n",
            "\n",
            "\n",
            "Quantidade de tamanho M vendido: 2\n",
            "\n",
            "\n",
            "Quantidade de cores branco: 1\n",
            "Quantidade de cores preto: 2\n",
            "Quantidade de cores azul: 2\n",
            "\n",
            "\n",
            "Cor que mais vendeu: branco vendeu 1 peças\n",
            "\n",
            "\n",
            "Cor que mais vendeu: preto vendeu 2 peças\n"
          ]
        }
      ],
      "source": [
        "#Exercicio 1: Foram vendidas 50 peças de roupa. De cada peça foram coletados os seguintes dados: tamanho (P,M ou G) e cor\n",
        "#(branco, preto ou azul). O programa deve ler os dados das peças de roupas e organizá-los em uma lista de tuplas, onde cada tupla\n",
        "#é da forma (tamanho, cor). O programa deve ainda calcular e escrever: o tamanho que mais vendeu, a quantidade de peças de\n",
        "#tamanho M que foram vendidas e a cor preferida pelos clientes.\n",
        "\n",
        "peças = []\n",
        "for i in range(1,6):\n",
        "  print(\"Cont\", i)\n",
        "  tamanho = input(\"Informe o tamanho usando os valores P, M ou G:\")\n",
        "  while(tamanho != \"P\" and tamanho != \"p\" and tamanho != \"M\" and tamanho != \"m\" and tamanho != \"G\" and tamanho != \"g\"):\n",
        "    tamanho = input(\"Informe o tamanho usando os valores P, M ou G:\")\n",
        "  op = int(input(\"Informe a cor usando 1 para Branco, 2 para preto, 3 para azul: \"))\n",
        "  while(op < 1 or op >3):\n",
        "    op = int(input(\"Informe a cor usando 1 para Branco, 2 para Preto, 3 para azul: \"))\n",
        "  if op == 1: tupla = (tamanho,\"branco\")\n",
        "  else:\n",
        "    if op == 2: tupla = (tamanho,\"preto\")\n",
        "    else: tupla = (tamanho,\"azul\")\n",
        "  peças.append(tupla)\n",
        "print(\"\\n\")\n",
        "print(peças)\n",
        "\n",
        "contP = 0\n",
        "contM = 0\n",
        "contG = 0\n",
        "cores = []\n",
        "for item in peças :\n",
        "  if item[0] == \"P\" or item[0] == \"p\": contP += 1\n",
        "  else:\n",
        "    if item[0] == \"M\" or item[0] == \"m\": contM += 1\n",
        "    else: contG = contG + 1\n",
        "  cores.append(item[1])\n",
        "\n",
        "\n",
        "totalizaTamanho = []\n",
        "totalizaTamanho.append((\"Pequeno\",contP))\n",
        "totalizaTamanho.append((\"Medio\",contM))\n",
        "totalizaTamanho.append((\"Grande\",contG))\n",
        "print(totalizaTamanho)\n",
        "print(\"\\n\")\n",
        "\n",
        "#Qual tamanho mais vendeu\n",
        "maior = 0\n",
        "tamanho = \"\"\n",
        "for item in totalizaTamanho:\n",
        "  if item[1] > maior:\n",
        "    maior = item[1]\n",
        "    tamanho = item[0]\n",
        "print(\"Tamanho que mais vendeu:\",tamanho, \"vendeu\", maior,\"peças\")\n",
        "print(\"\\n\")\n",
        "\n",
        "#Qtd de peças de tamanho M que foram vendidas\n",
        "print(\"Quantidade de tamanho M vendido:\", totalizaTamanho[1][1])\n",
        "print(\"\\n\")\n",
        "\n",
        "#Cor que mais vendeu\n",
        "print(\"Quantidade de cores branco:\", cores.count(\"branco\"))\n",
        "print(\"Quantidade de cores preto:\", cores.count(\"preto\"))\n",
        "print(\"Quantidade de cores azul:\", cores.count(\"azul\"))\n",
        "\n",
        "maior_cor_qtd = 0\n",
        "cor_mais_vendida = \"\"\n",
        "for cor in [\"branco\", \"preto\", \"azul\"]:\n",
        "    qtd_cor = cores.count(cor)\n",
        "    if qtd_cor > maior_cor_qtd:\n",
        "        maior_cor_qtd = qtd_cor\n",
        "        cor_mais_vendida = cor\n",
        "        print(\"\\n\")\n",
        "        print(\"Cor que mais vendeu:\", cor_mais_vendida, \"vendeu\", maior_cor_qtd, \"peças\")"
      ]
    }
  ]
}