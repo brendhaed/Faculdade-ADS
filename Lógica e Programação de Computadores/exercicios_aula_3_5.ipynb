{
  "nbformat": 4,
  "nbformat_minor": 0,
  "metadata": {
    "colab": {
      "provenance": [],
      "authorship_tag": "ABX9TyMt9+EyAeAdcMCZAGSuCkdB",
      "include_colab_link": true
    },
    "kernelspec": {
      "name": "python3",
      "display_name": "Python 3"
    },
    "language_info": {
      "name": "python"
    }
  },
  "cells": [
    {
      "cell_type": "markdown",
      "metadata": {
        "id": "view-in-github",
        "colab_type": "text"
      },
      "source": [
        "<a href=\"https://colab.research.google.com/github/brendhaed/Faculdade-ADS/blob/main/L%C3%B3gica%20e%20Programa%C3%A7%C3%A3o%20de%20Computadores/exercicios_aula_3_5.ipynb\" target=\"_parent\"><img src=\"https://colab.research.google.com/assets/colab-badge.svg\" alt=\"Open In Colab\"/></a>"
      ]
    },
    {
      "cell_type": "code",
      "execution_count": null,
      "metadata": {
        "colab": {
          "base_uri": "https://localhost:8080/"
        },
        "id": "1MEa29MAij9n",
        "outputId": "8639486a-c9d5-483d-958f-d30402b47919"
      },
      "outputs": [
        {
          "output_type": "stream",
          "name": "stdout",
          "text": [
            "Informe valor inteiro de 1 a 7:7\n",
            "Sábado\n"
          ]
        }
      ],
      "source": [
        "valor = int(input(\"Informe valor inteiro de 1 a 7:\"))\n",
        "if valor<1 or valor>7:\n",
        "    print(\"Valor fora do intevalo\")\n",
        "else:\n",
        "    if valor==1: print(\"Domingo\")\n",
        "    if valor==2: print(\"Segunda\")\n",
        "    if valor==3: print(\"Terça\")\n",
        "    if valor==4: print(\"Quarta\")\n",
        "    if valor==5: print(\"Quinta\")\n",
        "    if valor==6: print(\"Sexta\")\n",
        "    if valor==7: print(\"Sábado\")"
      ]
    },
    {
      "cell_type": "code",
      "source": [
        "nota1 = float(input(\"informe a nota 1:\"))\n",
        "nota2 =  float(input(\"informe a nota 2:\"))\n",
        "nota3 =  float(input(\"informe a nota 3:\"))\n",
        "if nota1<0 or nota1>10 or nota2<0 or nota2>10 or nota3<0 or nota3>10:\n",
        "  print(\"Notas fora do intervalo!\")\n",
        "else:\n",
        "  maior = nota1\n",
        "  if nota2>maior:maior = nota2\n",
        "  if nota3>maior:maior = nota3\n",
        "media = 0.5*maior+0.25*(nota1+nota2+nota3-maior)\n",
        "print(\"Média ponderada:\", media)"
      ],
      "metadata": {
        "colab": {
          "base_uri": "https://localhost:8080/"
        },
        "id": "dMZlWURlpgQh",
        "outputId": "d68f5bcf-d864-4bb0-cdd9-0612afb3659f"
      },
      "execution_count": null,
      "outputs": [
        {
          "output_type": "stream",
          "name": "stdout",
          "text": [
            "informe a nota 1:7\n",
            "informe a nota 2:7\n",
            "informe a nota 3:9\n",
            "Média ponderada: 8.0\n"
          ]
        }
      ]
    },
    {
      "cell_type": "code",
      "source": [
        "import math\n",
        "a = float(input(\"Informe o coeficiente a:\"))\n",
        "b = float(input(\"Informe o coeficiente b:\"))\n",
        "c = float(input(\"Informe o coeficiente c:\"))\n",
        "\n",
        "delta = math.pow(b,2) - 4*a*c\n",
        "if delta <0 or a==0: print(\"Erro, delta negativo ou divisão por 0\")\n",
        "else:\n",
        "  x1 = (-b + math.sqrt(delta))/(2*a)\n",
        "  x2 = (-b - math.sqrt(delta))/(2*a)\n",
        "\n",
        "print(\"x1 é:\",x1)\n",
        "print(\"x2 é:\",x2)\n"
      ],
      "metadata": {
        "colab": {
          "base_uri": "https://localhost:8080/"
        },
        "id": "yKobtprYtAuP",
        "outputId": "8b66e973-c2d6-462c-9103-cd61b554b990"
      },
      "execution_count": null,
      "outputs": [
        {
          "output_type": "stream",
          "name": "stdout",
          "text": [
            "Informe o coeficiente a:1\n",
            "Informe o coeficiente b:4\n",
            "Informe o coeficiente c:2\n",
            "x1 é: -0.5857864376269049\n",
            "x2 é: -3.414213562373095\n"
          ]
        }
      ]
    },
    {
      "cell_type": "code",
      "source": [
        "saldo = float(input(\"Informe o saldo médio da conta:\"))\n",
        "if saldo<500:print(\"Não há limite\")\n",
        "if saldo>=500 and saldo<1000: print(\"Limite:\",saldo*0.08)\n",
        "if saldo>1000: print(\"Limite:\", saldo*0.15)\n",
        "\n"
      ],
      "metadata": {
        "colab": {
          "base_uri": "https://localhost:8080/"
        },
        "id": "lJbVuswWvA8l",
        "outputId": "c65bc42f-04ff-4f3d-baee-f9959f2d0948"
      },
      "execution_count": null,
      "outputs": [
        {
          "output_type": "stream",
          "name": "stdout",
          "text": [
            "Informe o saldo médio da conta:1500\n",
            "Limite: 225.0\n"
          ]
        }
      ]
    }
  ]
}