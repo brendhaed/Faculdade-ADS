{
  "nbformat": 4,
  "nbformat_minor": 0,
  "metadata": {
    "colab": {
      "provenance": [],
      "authorship_tag": "ABX9TyPjK2Xb8McwFN0770dOL6FQ",
      "include_colab_link": true
    },
    "kernelspec": {
      "name": "python3",
      "display_name": "Python 3"
    },
    "language_info": {
      "name": "python"
    }
  },
  "cells": [
    {
      "cell_type": "markdown",
      "metadata": {
        "id": "view-in-github",
        "colab_type": "text"
      },
      "source": [
        "<a href=\"https://colab.research.google.com/github/brendhaed/Faculdade-ADS/blob/main/L%C3%B3gica%20e%20Programa%C3%A7%C3%A3o%20de%20Computadores/aula_4_4.ipynb\" target=\"_parent\"><img src=\"https://colab.research.google.com/assets/colab-badge.svg\" alt=\"Open In Colab\"/></a>"
      ]
    },
    {
      "cell_type": "code",
      "execution_count": 6,
      "metadata": {
        "colab": {
          "base_uri": "https://localhost:8080/"
        },
        "id": "yILX9EnAb2Wv",
        "outputId": "50a7facc-d666-4594-d294-25aba42a9636"
      },
      "outputs": [
        {
          "output_type": "stream",
          "name": "stdout",
          "text": [
            "Sua escolha [Pe]dra,[Pa]pel, [T]esoura? t\n",
            "Computador escolheu: Pe\n",
            "Pe quebra T! Você perdeu\n"
          ]
        }
      ],
      "source": [
        "#Exemplo 10: jogo pedra, papel, tesoura:\n",
        "\n",
        "import random\n",
        "\n",
        "jogador = input(\"Sua escolha [Pe]dra,[Pa]pel, [T]esoura? \")\n",
        "comp = random.choice([\"Pe\",\"Pa\",\"T\"])\n",
        "print(f\"Computador escolheu: {comp}\")\n",
        "\n",
        "if jogador == comp:\n",
        "  print(f\"Empate!\")\n",
        "elif jogador == \"Pe\":\n",
        "  if comp == \"T\":\n",
        "    print(\"Pe quebra T! Você ganhou!\")\n",
        "  else:\n",
        "    print(\"Pa cobre Pe! Você perdeu\")\n",
        "elif jogador == \"Pa\":\n",
        "  if comp == \"Pe\":\n",
        "    print(\"Pa cobre Pe! Você ganhou!\")\n",
        "  else:\n",
        "    print(\"T corta Pa! Você perdeu\")\n",
        "elif comp == \"Pa\":\n",
        "  print(\"T corta Pa! Você ganhou!\")\n",
        "else:\n",
        "  print(\"Pe quebra T! Você perdeu\")"
      ]
    },
    {
      "cell_type": "code",
      "source": [
        "#Exemplo 11: determinação da situação em função da pressão arterial\n",
        "\n",
        "sist = int(input(\"Sistólica: \"))\n",
        "diast = int(input(\"Diastólica: \"))\n",
        "\n",
        "if diast >= 120 or sist >=180:\n",
        "    print(\"Crise hipertensiva\")\n",
        "elif (diast >=90 and diast < 120) or (sist >=140 and sist <180):\n",
        "    print(\"Hipertensão estágio 2\")\n",
        "elif (diast >=80 and diast < 90) or (sist >=130 and sist < 140):\n",
        "    print(\"Hipertensão estágio 1\")\n",
        "elif diast < 80 and sist < 130 and sist >=120:\n",
        "    print(\"Elevada\")\n",
        "elif diast < 80 and sist < 120:\n",
        "    print(\"Normal\")\n",
        "\n",
        "\n",
        "\n",
        ""
      ],
      "metadata": {
        "colab": {
          "base_uri": "https://localhost:8080/"
        },
        "id": "2YH2eGSkc9Qk",
        "outputId": "fa861af7-e191-496b-ad6e-540f05e8aef7"
      },
      "execution_count": 4,
      "outputs": [
        {
          "output_type": "stream",
          "name": "stdout",
          "text": [
            "Sistólica: 150\n",
            "Diastólica: 120\n",
            "Crise hipertensiva\n"
          ]
        }
      ]
    },
    {
      "cell_type": "markdown",
      "source": [],
      "metadata": {
        "id": "U-a8pknngaKI"
      }
    }
  ]
}