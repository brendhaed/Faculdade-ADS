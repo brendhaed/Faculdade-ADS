{
  "nbformat": 4,
  "nbformat_minor": 0,
  "metadata": {
    "colab": {
      "provenance": [],
      "authorship_tag": "ABX9TyMSGYdTX4xLnJlwo8yw4BHs",
      "include_colab_link": true
    },
    "kernelspec": {
      "name": "python3",
      "display_name": "Python 3"
    },
    "language_info": {
      "name": "python"
    }
  },
  "cells": [
    {
      "cell_type": "markdown",
      "metadata": {
        "id": "view-in-github",
        "colab_type": "text"
      },
      "source": [
        "<a href=\"https://colab.research.google.com/github/brendhaed/Faculdade-ADS/blob/main/L%C3%B3gica%20e%20Programa%C3%A7%C3%A3o%20de%20Computadores/aula_9_3.ipynb\" target=\"_parent\"><img src=\"https://colab.research.google.com/assets/colab-badge.svg\" alt=\"Open In Colab\"/></a>"
      ]
    },
    {
      "cell_type": "code",
      "execution_count": 3,
      "metadata": {
        "colab": {
          "base_uri": "https://localhost:8080/"
        },
        "id": "ACQSmCBflWzZ",
        "outputId": "40e24a7b-cf53-4e69-b9b4-5ce9aa177a82"
      },
      "outputs": [
        {
          "name": "stdout",
          "output_type": "stream",
          "text": [
            "Nome a procurar (fim para encerrar): fulano\n",
            "Nome não encontrado!\n",
            "Nome a procurar (fim para encerrar): Beltrano\n",
            "Telefone: 99671-7562\n",
            "Nome a procurar (fim para encerrar): fim\n"
          ]
        }
      ],
      "source": [
        "#exemplo 14: operações basicas de um dicionário\n",
        "dic = {}\n",
        "dic[\"Fulano\"] = \"99817-9123\"\n",
        "dic[\"Beltrano\"] = \"99671-7562\"\n",
        "dic[\"Ciclano\"] = \"99881-1642\"\n",
        "nome = \"\"\n",
        "while nome != \"fim\":\n",
        "  nome = input(\"Nome a procurar (fim para encerrar): \")\n",
        "  if nome != \"fim\":\n",
        "    if nome in dic:\n",
        "      print(f\"Telefone: {dic[nome]}\")\n",
        "    else:\n",
        "      print(\"Nome não encontrado!\")"
      ]
    },
    {
      "cell_type": "code",
      "source": [
        "#exemplo 15: removendo chaves e valores\n",
        "nome = \"\"\n",
        "while nome != \"fim\":\n",
        "  print(f\"Tamanho do dicionário: {len(dic)}\")\n",
        "  print(dic)\n",
        "  nome = input(\"Nome a remover (fim para encerrar): \")\n",
        "  if nome != \"fim\":\n",
        "    if nome in dic:\n",
        "      del dic[nome]\n",
        "      print(\"Nome removido!\")\n",
        "    else:\n",
        "      print(\"Nome não encontrado!\")"
      ],
      "metadata": {
        "colab": {
          "base_uri": "https://localhost:8080/"
        },
        "id": "He7ENCPpmTL8",
        "outputId": "11e5a1d9-01de-451e-8066-d3c56fa84de5"
      },
      "execution_count": 4,
      "outputs": [
        {
          "name": "stdout",
          "output_type": "stream",
          "text": [
            "Tamanho do dicionário: 3\n",
            "{'Fulano': '99817-9123', 'Beltrano': '99671-7562', 'Ciclano': '99881-1642'}\n",
            "Nome a remover (fim para encerrar): Ciclano\n",
            "Nome removido!\n",
            "Tamanho do dicionário: 2\n",
            "{'Fulano': '99817-9123', 'Beltrano': '99671-7562'}\n",
            "Nome a remover (fim para encerrar): fim\n"
          ]
        }
      ]
    },
    {
      "cell_type": "code",
      "source": [
        "#exemplo 16: outras opções de acesso:\n",
        "dic = {}\n",
        "\n",
        "dic[\"Fulano\"] = \"99817-9123\"\n",
        "dic[\"Beltrano\"] = \"99671-7562\"\n",
        "dic[\"Ciclano\"] = \"99881-1642\"\n",
        "\n",
        "print(dic.keys())\n",
        "print(dic.values())\n",
        "print(dic.items())\n",
        "\n",
        "print(f\"Telefone de Fulano: {dic.get('Fulano')}\")\n",
        "print(f\"Telefone de Veltrano: {dic.get('Veltrano')}\")"
      ],
      "metadata": {
        "colab": {
          "base_uri": "https://localhost:8080/"
        },
        "id": "oSq8RuurmUmj",
        "outputId": "a0e271ff-1fdf-45c7-b10d-e7ca7bd373f7"
      },
      "execution_count": 5,
      "outputs": [
        {
          "output_type": "stream",
          "name": "stdout",
          "text": [
            "dict_keys(['Fulano', 'Beltrano', 'Ciclano'])\n",
            "dict_values(['99817-9123', '99671-7562', '99881-1642'])\n",
            "dict_items([('Fulano', '99817-9123'), ('Beltrano', '99671-7562'), ('Ciclano', '99881-1642')])\n",
            "Telefone de Fulano: 99817-9123\n",
            "Telefone de Veltrano: None\n"
          ]
        }
      ]
    },
    {
      "cell_type": "code",
      "source": [
        "#exemplo 17: explorando opções de acesso\n",
        "dic = {}\n",
        "\n",
        "dic[\"Fulano\"] = \"99817-9123\"\n",
        "dic[\"Beltrano\"] = \"99671-7562\"\n",
        "dic[\"Ciclano\"] = \"99881-1642\"\n",
        "dic[\"Pedro\"] = \"99123-2432\"\n",
        "\n",
        "for k in dic.keys():\n",
        "  print(f\"Chave: {k}\")\n",
        "for v in dic.values():\n",
        "  print(f\"Valor: {v}\")\n",
        "  print(\"Chaves e valores em ordem de inclusão:\")\n",
        "for k,v in dic.items():\n",
        "  print(f\"{k:8} -> {v}\")\n",
        "  print(\"Ordenado pelas chaves:\")\n",
        "for k,v in sorted(dic.items()):\n",
        "  print(f\"{k:8} -> {v}\")\n",
        "  print(\"Ordenado pelos valores:\")\n",
        "for k,v in sorted(dic.items(),key=lambda x: x[1]):\n",
        "  print(f\"{k:8} -> {v}\")"
      ],
      "metadata": {
        "colab": {
          "base_uri": "https://localhost:8080/"
        },
        "id": "JiYlZuukmVfy",
        "outputId": "a36a3eb2-acc2-40e8-b362-99ed37db3f12"
      },
      "execution_count": 6,
      "outputs": [
        {
          "output_type": "stream",
          "name": "stdout",
          "text": [
            "Chave: Fulano\n",
            "Chave: Beltrano\n",
            "Chave: Ciclano\n",
            "Chave: Pedro\n",
            "Valor: 99817-9123\n",
            "Chaves e valores em ordem de inclusão:\n",
            "Valor: 99671-7562\n",
            "Chaves e valores em ordem de inclusão:\n",
            "Valor: 99881-1642\n",
            "Chaves e valores em ordem de inclusão:\n",
            "Valor: 99123-2432\n",
            "Chaves e valores em ordem de inclusão:\n",
            "Fulano   -> 99817-9123\n",
            "Ordenado pelas chaves:\n",
            "Beltrano -> 99671-7562\n",
            "Ordenado pelas chaves:\n",
            "Ciclano  -> 99881-1642\n",
            "Ordenado pelas chaves:\n",
            "Pedro    -> 99123-2432\n",
            "Ordenado pelas chaves:\n",
            "Beltrano -> 99671-7562\n",
            "Ordenado pelos valores:\n",
            "Ciclano  -> 99881-1642\n",
            "Ordenado pelos valores:\n",
            "Fulano   -> 99817-9123\n",
            "Ordenado pelos valores:\n",
            "Pedro    -> 99123-2432\n",
            "Ordenado pelos valores:\n",
            "Pedro    -> 99123-2432\n",
            "Beltrano -> 99671-7562\n",
            "Fulano   -> 99817-9123\n",
            "Ciclano  -> 99881-1642\n"
          ]
        }
      ]
    },
    {
      "cell_type": "code",
      "source": [
        "#exemplo 18: explorando as operações sobre conjuntos(1)\n",
        "a = set()\n",
        "op = \"\"\n",
        "while op != \"fim\":\n",
        "  print(f\"Conjunto: {a}\")\n",
        "  print()\n",
        "  print(\"Digite um valor a inserir no conjunto:\")\n",
        "  op = input(\"pop para remover um elemento, fim para encerrar: \")\n",
        "  if op == \"pop\":\n",
        "    if len(a) < 0:\n",
        "      print(\"Conjunto está vazio!\")\n",
        "    else:\n",
        "      v = a.pop()\n",
        "      print(f\"Valor removido: {v}\")\n",
        "  else:\n",
        "    a.add(op)"
      ],
      "metadata": {
        "colab": {
          "base_uri": "https://localhost:8080/"
        },
        "id": "0vAKE5CDmWdg",
        "outputId": "89a25a5e-d468-4c18-82da-46a07b0ddcda"
      },
      "execution_count": 2,
      "outputs": [
        {
          "name": "stdout",
          "output_type": "stream",
          "text": [
            "Conjunto: set()\n",
            "\n",
            "Digite um valor a inserir no conjunto:\n",
            "pop para remover um elemento, fim para encerrar: 1\n",
            "Conjunto: {'1'}\n",
            "\n",
            "Digite um valor a inserir no conjunto:\n",
            "pop para remover um elemento, fim para encerrar: 5\n",
            "Conjunto: {'1', '5'}\n",
            "\n",
            "Digite um valor a inserir no conjunto:\n",
            "pop para remover um elemento, fim para encerrar: 20\n",
            "Conjunto: {'20', '1', '5'}\n",
            "\n",
            "Digite um valor a inserir no conjunto:\n",
            "pop para remover um elemento, fim para encerrar: 8\n",
            "Conjunto: {'20', '8', '1', '5'}\n",
            "\n",
            "Digite um valor a inserir no conjunto:\n",
            "pop para remover um elemento, fim para encerrar: 3\n",
            "Conjunto: {'8', '5', '20', '1', '3'}\n",
            "\n",
            "Digite um valor a inserir no conjunto:\n",
            "pop para remover um elemento, fim para encerrar: pop\n",
            "Valor removido: 8\n",
            "Conjunto: {'5', '20', '1', '3'}\n",
            "\n",
            "Digite um valor a inserir no conjunto:\n",
            "pop para remover um elemento, fim para encerrar: fim\n"
          ]
        }
      ]
    },
    {
      "cell_type": "code",
      "source": [
        "#exemplo 19: explorando as operações sobre conjuntos(2)\n",
        "a = set([1,2,3,4,5,6])\n",
        "b = set([4,5,6,7,8,9])\n",
        "c = set([1,3,5])\n",
        "\n",
        "print(f\"união a+b: {a.union(b)}\")\n",
        "print(f\"diferença a-b: {a.difference(b)}\")\n",
        "print(f\"diferença b-a: {b.difference(a)}\")\n",
        "print(f\"intersec. a&b: {a.intersection(b)}\")\n",
        "print(f\"dif. sim. a^b: {a.symmetric_difference(b)}\")\n",
        "\n",
        "print(f\"a contém c : {a.issuperset(c)}\")\n",
        "print(f\"c contido a : {c.issubset(a)}\")"
      ],
      "metadata": {
        "colab": {
          "base_uri": "https://localhost:8080/"
        },
        "id": "sqlzkfI4mXP7",
        "outputId": "2c5a2685-8a72-42a7-deb5-04dd0181cf25"
      },
      "execution_count": 3,
      "outputs": [
        {
          "output_type": "stream",
          "name": "stdout",
          "text": [
            "união a+b: {1, 2, 3, 4, 5, 6, 7, 8, 9}\n",
            "diferença a-b: {1, 2, 3}\n",
            "diferença b-a: {8, 9, 7}\n",
            "intersec. a&b: {4, 5, 6}\n",
            "dif. sim. a^b: {1, 2, 3, 7, 8, 9}\n",
            "a contém c : True\n",
            "c contido a : True\n"
          ]
        }
      ]
    }
  ]
}