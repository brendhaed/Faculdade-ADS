{
  "nbformat": 4,
  "nbformat_minor": 0,
  "metadata": {
    "colab": {
      "provenance": [],
      "authorship_tag": "ABX9TyM+kfs/O+Egi0R69ib3PM9R",
      "include_colab_link": true
    },
    "kernelspec": {
      "name": "python3",
      "display_name": "Python 3"
    },
    "language_info": {
      "name": "python"
    }
  },
  "cells": [
    {
      "cell_type": "markdown",
      "metadata": {
        "id": "view-in-github",
        "colab_type": "text"
      },
      "source": [
        "<a href=\"https://colab.research.google.com/github/brendhaed/Faculdade-ADS/blob/main/L%C3%B3gica%20e%20Programa%C3%A7%C3%A3o%20de%20Computadores/exercicios_aula_3_2.ipynb\" target=\"_parent\"><img src=\"https://colab.research.google.com/assets/colab-badge.svg\" alt=\"Open In Colab\"/></a>"
      ]
    },
    {
      "cell_type": "code",
      "execution_count": null,
      "metadata": {
        "colab": {
          "base_uri": "https://localhost:8080/"
        },
        "id": "RJa6KE0_gaSw",
        "outputId": "99202f2a-e5cc-44f7-9ca3-3422c73b3f02"
      },
      "outputs": [
        {
          "output_type": "stream",
          "name": "stdout",
          "text": [
            "Informe um valor:10\n",
            "O valor digitado é positivo\n"
          ]
        }
      ],
      "source": [
        " valor = int(input(\"Informe um valor:\"))\n",
        " if valor >0: print(\"O valor digitado é positivo\")"
      ]
    },
    {
      "cell_type": "code",
      "source": [
        "val = int(input(\"Informe um valor: \"))\n",
        "if val >0: print(\"Valor é positivo\")\n",
        "if val <0: print(\"Valor é negativo\")\n",
        "if val ==0: print(\"Valor é zero\")"
      ],
      "metadata": {
        "colab": {
          "base_uri": "https://localhost:8080/"
        },
        "id": "YsoRRSybjTa8",
        "outputId": "1987c3d9-8ff7-41e0-cd0d-b388b3619b69"
      },
      "execution_count": null,
      "outputs": [
        {
          "output_type": "stream",
          "name": "stdout",
          "text": [
            "Informe um valor: -2\n",
            "Valor é negativo\n"
          ]
        }
      ]
    },
    {
      "cell_type": "code",
      "source": [
        "print(\"Informe um primeiro valor:\")\n",
        "v1 = int(input())\n",
        "print(\"Informe um segundo valor:\")\n",
        "v2 = int(input())\n",
        "print(\"Informe um terceiro valor: \")\n",
        "v3 = int(input())\n",
        "\n",
        "if v1>=v2 and v1>v3 : maior = v1\n",
        "if v2>v1 and v2>=v3 : maior = v2\n",
        "if v3>=v1 and v3>=v2 : maior = v3\n",
        "\n",
        "print (\"Maior: \",maior)"
      ],
      "metadata": {
        "colab": {
          "base_uri": "https://localhost:8080/"
        },
        "id": "Ug0POA-9qHd6",
        "outputId": "f6bd1132-9c29-4ec9-ac3c-4eca9e88e87b"
      },
      "execution_count": null,
      "outputs": [
        {
          "output_type": "stream",
          "name": "stdout",
          "text": [
            "Informe um primeiro valor:\n",
            "2\n",
            "Informe um segundo valor:\n",
            "1\n",
            "Informe um terceiro valor: \n",
            "8\n",
            "Maior:  8\n"
          ]
        }
      ]
    },
    {
      "cell_type": "code",
      "source": [
        "print(\"Informe um primeiro valor: \")\n",
        "v1 = int(input())\n",
        "print(\"Informe um segundo valor: \")\n",
        "v2 = int(input())\n",
        "print(\"Informe um terceiro valor: \")\n",
        "v3 = int(input())\n",
        "print (\"Informe um quarto valor: \")\n",
        "v4 = int(input())\n",
        "\n",
        "maior = v1\n",
        "if v2>maior : maior = v2\n",
        "if v3>maior : maior = v3\n",
        "if v4>maior : maior = v4\n",
        "\n",
        "print(\"Maior: \", maior)\n"
      ],
      "metadata": {
        "colab": {
          "base_uri": "https://localhost:8080/"
        },
        "id": "oKYNVewwuo5b",
        "outputId": "f2a1e8a8-c857-40bd-9892-8698b9753683"
      },
      "execution_count": null,
      "outputs": [
        {
          "output_type": "stream",
          "name": "stdout",
          "text": [
            "Informe um primeiro valor: \n",
            "4\n",
            "Informe um segundo valor: \n",
            "7\n",
            "Informe um terceiro valor: \n",
            "10\n",
            "Informe um quarto valor: \n",
            "2\n",
            "Maior:  10\n"
          ]
        }
      ]
    },
    {
      "cell_type": "code",
      "source": [
        "print(\"Informe o primeiro valor:\")\n",
        "v1 = int(input())\n",
        "print(\"Informe o segundo valor:\")\n",
        "v2 = int(input())\n",
        "\n",
        "if v1>v2:\n",
        "  aux = v1\n",
        "  v1 = v2\n",
        "  v2 = aux\n",
        "\n",
        "  print(v1, v2)\n"
      ],
      "metadata": {
        "id": "OvUNVKO4wvjQ"
      },
      "execution_count": null,
      "outputs": []
    }
  ]
}