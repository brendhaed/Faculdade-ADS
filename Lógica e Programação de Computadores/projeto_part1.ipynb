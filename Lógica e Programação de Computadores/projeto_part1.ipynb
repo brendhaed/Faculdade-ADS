{
  "nbformat": 4,
  "nbformat_minor": 0,
  "metadata": {
    "colab": {
      "provenance": [],
      "authorship_tag": "ABX9TyOdRzfWg/xOCYG4lphfLg1M",
      "include_colab_link": true
    },
    "kernelspec": {
      "name": "python3",
      "display_name": "Python 3"
    },
    "language_info": {
      "name": "python"
    }
  },
  "cells": [
    {
      "cell_type": "markdown",
      "metadata": {
        "id": "view-in-github",
        "colab_type": "text"
      },
      "source": [
        "<a href=\"https://colab.research.google.com/github/brendhaed/Faculdade-ADS/blob/main/L%C3%B3gica%20e%20Programa%C3%A7%C3%A3o%20de%20Computadores/projeto_part1.ipynb\" target=\"_parent\"><img src=\"https://colab.research.google.com/assets/colab-badge.svg\" alt=\"Open In Colab\"/></a>"
      ]
    },
    {
      "cell_type": "code",
      "execution_count": 5,
      "metadata": {
        "colab": {
          "base_uri": "https://localhost:8080/"
        },
        "id": "hQ2ZK3O8d8aH",
        "outputId": "102b3a28-b5ac-433b-8ebb-92a8201098f5"
      },
      "outputs": [
        {
          "output_type": "stream",
          "name": "stdout",
          "text": [
            "Digite a temperatura máxima dos meses do ano em graus Celsius: \n",
            "\n",
            "\n",
            "Digite a temperatura máxima de 1° mês: 34.3\n",
            "Digite a temperatura máxima de 2° mês: 36\n",
            "Digite a temperatura máxima de 3° mês: 31\n",
            "Digite a temperatura máxima de 4° mês: 31.7\n",
            "Digite a temperatura máxima de 5° mês: 31\n",
            "Digite a temperatura máxima de 6° mês: 20\n",
            "Digite a temperatura máxima de 7° mês: 17\n",
            "Digite a temperatura máxima de 8° mês: 42.5\n",
            "Digite a temperatura máxima de 9° mês: 37\n",
            "Digite a temperatura máxima de 10° mês: 32.1\n",
            "Digite a temperatura máxima de 11° mês: 33\n",
            "Digite a temperatura máxima de 12° mês: 23\n",
            "\n",
            "\n",
            "A temperatura média anual é de:30.0 graus Celsius\n",
            "\n",
            "\n",
            "A quantidade de meses escaldantes é: 4\n",
            "\n",
            "\n",
            "O mês mais escaldante do ano é: Agosto\n",
            "\n",
            "\n",
            "O mês menos quente do ano é: Julho\n"
          ]
        }
      ],
      "source": [
        "#Resolução do projeto parte I: Dados meteorológicos do ano de 2021\n",
        "somaTemperaturas = 0\n",
        "temperaturaMediaMaximaAnual = 0\n",
        "qtdDeMesesEscaldantes = 0\n",
        "mesMaisEscaldanteDoAno = 0\n",
        "mesMenosQuenteDoAno= 0\n",
        "\n",
        "#Meses do ano e temperaturas:\n",
        "meses = [\"Janeiro\", \"Fevereiro\", \"Março\", \"Abril\", \"Maio\", \"Junho\", \"Julho\",\n",
        "\"Agosto\", \"Setembro\", \"Outubro\", \"Novembro\", \"Dezembro\"]\n",
        "temperaturas =[]\n",
        "\n",
        "#Instrução de entrada do usuário:\n",
        "print(\"Digite a temperatura máxima dos meses do ano em graus Celsius: \")\n",
        "print(\"\\n\")\n",
        "for mes in range(1, 13):\n",
        "   temperatura = float(input(f\"Digite a temperatura máxima de {mes}° mês: \"))\n",
        "   if temperatura > 50 or temperatura < -60:\n",
        "    print(\"Temperatura inválida! Deve estar entre 50 e -60 graus Celsius\")\n",
        "   else:\n",
        "       temperaturas.append(temperatura)\n",
        "\n",
        "print(\"\\n\")\n",
        "#1. Temperatura média anual:\n",
        "somaTemperaturas = sum(temperaturas)\n",
        "temperaturaMediaAnual = somaTemperaturas // 12\n",
        "print(f\"A temperatura média anual é de: {temperaturaMediaAnual} graus Celsius\")\n",
        "\n",
        "print(\"\\n\")\n",
        "#2. Quantidade de meses escaldantes:\n",
        "qtdDeMesesEscaldantes = sum(1 for temp in temperaturas if temp > 33)\n",
        "print(f\"A quantidade de meses escaldantes é: {qtdDeMesesEscaldantes}\")\n",
        "\n",
        "print(\"\\n\")\n",
        "#3. Mês mais escaldante do ano:\n",
        "mesMaisEscaldanteDoAno = max(temperaturas)\n",
        "mesMaisEscaldanteDoAno = meses[temperaturas.index(mesMaisEscaldanteDoAno)]\n",
        "print(f\"O mês mais escaldante do ano é: {mesMaisEscaldanteDoAno}\")\n",
        "\n",
        "print(\"\\n\")\n",
        "#4. Mês menos quente do ano:\n",
        "mesMenosQuenteDoAno = min(temperaturas)\n",
        "mesMenosQuenteDoAno = meses[temperaturas.index(mesMenosQuenteDoAno)]\n",
        "print(f\"O mês menos quente do ano é: {mesMenosQuenteDoAno}\")"
      ]
    }
  ]
}