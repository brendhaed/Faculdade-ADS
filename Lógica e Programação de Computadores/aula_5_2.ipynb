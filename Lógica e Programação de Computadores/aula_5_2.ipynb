{
  "nbformat": 4,
  "nbformat_minor": 0,
  "metadata": {
    "colab": {
      "provenance": [],
      "authorship_tag": "ABX9TyN/YcDj47FEkKJmc5Tcpan7",
      "include_colab_link": true
    },
    "kernelspec": {
      "name": "python3",
      "display_name": "Python 3"
    },
    "language_info": {
      "name": "python"
    }
  },
  "cells": [
    {
      "cell_type": "markdown",
      "metadata": {
        "id": "view-in-github",
        "colab_type": "text"
      },
      "source": [
        "<a href=\"https://colab.research.google.com/github/brendhaed/Faculdade-ADS/blob/main/L%C3%B3gica%20e%20Programa%C3%A7%C3%A3o%20de%20Computadores/aula_5_2.ipynb\" target=\"_parent\"><img src=\"https://colab.research.google.com/assets/colab-badge.svg\" alt=\"Open In Colab\"/></a>"
      ]
    },
    {
      "cell_type": "code",
      "execution_count": 4,
      "metadata": {
        "colab": {
          "base_uri": "https://localhost:8080/"
        },
        "id": "tskZfk4KWHlT",
        "outputId": "cad5b3c9-4cce-43a3-80e6-f0ede33493cf"
      },
      "outputs": [
        {
          "output_type": "stream",
          "name": "stdout",
          "text": [
            "Valor desejado: 25\n",
            "Qtd. de repetições: 10\n",
            "  1 13.00000\n",
            "  2 7.46154\n",
            "  3 5.40603\n",
            "  4 5.01525\n",
            "  5 5.00002\n",
            "  6 5.00000\n",
            "Raiz aproximada: 5.00000\n"
          ]
        }
      ],
      "source": [
        "#Exemplo 7: Algoritmo de Heronn para calcular a aproximação de raiz quadrada\n",
        "num = int(input(\"Valor desejado: \"))\n",
        "total = int(input(\"Qtd. de repetições: \"))\n",
        "aprox = 1\n",
        "anterior = 0\n",
        "for cont in range(1, total + 1):\n",
        "    aprox = (aprox + num/aprox) / 2\n",
        "    print(f\"{cont:3} {aprox:.5f}\")\n",
        "    dif = abs(aprox - anterior)\n",
        "    if dif < 0.001:\n",
        "        break\n",
        "    anterior = aprox\n",
        "print(f\"Raiz aproximada: {aprox:.5f}\")"
      ]
    },
    {
      "cell_type": "code",
      "source": [
        "#Exemplo 8:\n",
        "soma = 0\n",
        "for cont in range(10):\n",
        " alt = float(input(\"Digite uma altura:\"))\n",
        " soma = soma + alt\n",
        " media = soma / 10\n",
        "print(f\"Média: {media:.3f}\")\n"
      ],
      "metadata": {
        "colab": {
          "base_uri": "https://localhost:8080/"
        },
        "id": "jB4VgIz-jAUR",
        "outputId": "cc208d17-a987-4a82-c126-5f85d937021a"
      },
      "execution_count": 6,
      "outputs": [
        {
          "output_type": "stream",
          "name": "stdout",
          "text": [
            "Digite uma altura:1.55\n",
            "Digite uma altura:1.65\n",
            "Digite uma altura:1.77\n",
            "Digite uma altura:1.66\n",
            "Digite uma altura:1.50\n",
            "Digite uma altura:1.78\n",
            "Digite uma altura:1.82\n",
            "Digite uma altura:1.88\n",
            "Digite uma altura:1.90\n",
            "Digite uma altura:1.47\n",
            "Média: 1.698\n"
          ]
        }
      ]
    },
    {
      "cell_type": "code",
      "source": [
        "#Exemplo 9:\n",
        "import random\n",
        "\n",
        "soma = 0\n",
        "maior = 0\n",
        "\n",
        "for cont in range(10):\n",
        "    alt = random.uniform(1.5, 2.10)\n",
        "    soma = soma + alt\n",
        "    if alt > maior:\n",
        "        maior = alt\n",
        "\n",
        "media = soma/10\n",
        "print(f\"Media: {media:.3f}\")\n",
        "print(f\"Maior altura: {maior:.2f}\")"
      ],
      "metadata": {
        "colab": {
          "base_uri": "https://localhost:8080/"
        },
        "id": "xpqxeR8HlDh3",
        "outputId": "0ff39e1b-6023-47ba-c471-2c57c3f1ec9b"
      },
      "execution_count": 9,
      "outputs": [
        {
          "output_type": "stream",
          "name": "stdout",
          "text": [
            "Media: 1.879\n",
            "Maior altura: 2.10\n"
          ]
        }
      ]
    },
    {
      "cell_type": "code",
      "source": [
        "#Exemplo 10:\n",
        "import random\n",
        "\n",
        "somaIdades = 0\n",
        "cursoMaisVelho = \"\"\n",
        "idadeMaisVelho = 0\n",
        "qtdAlunos5oSem = 0\n",
        "\n",
        "for cont in range(50):\n",
        "    # Sorteio\n",
        "    idade = random.randint(18, 60)\n",
        "    curso = random.choice([\"Eng. Civil\", \"Eng.Mec\", \"Eng. Química\", \"Eng. Prod.\"])\n",
        "    semestre = random.randint(1, 10)\n",
        "\n",
        "    # Coleta de estatísticas\n",
        "    # Media de idades: é necessário somar as idades\n",
        "    somaIdades += idade\n",
        "\n",
        "    # Curso do aluno mais velho\n",
        "    if idade > idadeMaisVelho:\n",
        "        idadeMaisVelho = idade\n",
        "        cursoMaisVelho = curso\n",
        "\n",
        "    # Total de alunos no 5o. semestre\n",
        "    if semestre == 5:\n",
        "        qtdAlunos5oSem += 1\n",
        "\n",
        "mediaIdades = somaIdades // 50\n",
        "\n",
        "print(f\"Media de idades: {mediaIdades}\")\n",
        "print(f\"Curso do aluno mais velho ({idadeMaisVelho} anos): {cursoMaisVelho}\")\n",
        "print(f\"Total de alunos no 5o. sem: {qtdAlunos5oSem}\")"
      ],
      "metadata": {
        "colab": {
          "base_uri": "https://localhost:8080/"
        },
        "id": "fgwqLFA6nUB1",
        "outputId": "e0959844-35c4-40c0-fb93-7c47580b3369"
      },
      "execution_count": 12,
      "outputs": [
        {
          "output_type": "stream",
          "name": "stdout",
          "text": [
            "Media de idades: 40\n",
            "Curso do aluno mais velho (60 anos): Eng. Civil\n",
            "Total de alunos no 5o. sem: 4\n"
          ]
        }
      ]
    }
  ]
}