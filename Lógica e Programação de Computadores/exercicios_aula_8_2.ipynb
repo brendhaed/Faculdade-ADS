{
  "nbformat": 4,
  "nbformat_minor": 0,
  "metadata": {
    "colab": {
      "provenance": [],
      "authorship_tag": "ABX9TyPFRKq9Gkg20nOBo47DfuOz",
      "include_colab_link": true
    },
    "kernelspec": {
      "name": "python3",
      "display_name": "Python 3"
    },
    "language_info": {
      "name": "python"
    }
  },
  "cells": [
    {
      "cell_type": "markdown",
      "metadata": {
        "id": "view-in-github",
        "colab_type": "text"
      },
      "source": [
        "<a href=\"https://colab.research.google.com/github/brendhaed/Faculdade-ADS/blob/main/L%C3%B3gica%20e%20Programa%C3%A7%C3%A3o%20de%20Computadores/exercicios_aula_8_2.ipynb\" target=\"_parent\"><img src=\"https://colab.research.google.com/assets/colab-badge.svg\" alt=\"Open In Colab\"/></a>"
      ]
    },
    {
      "cell_type": "code",
      "execution_count": 2,
      "metadata": {
        "colab": {
          "base_uri": "https://localhost:8080/"
        },
        "id": "wEne0GLZQ6Ac",
        "outputId": "d468b2bf-691f-4419-b63e-d50f26e64aa5"
      },
      "outputs": [
        {
          "output_type": "stream",
          "name": "stdout",
          "text": [
            "Notas [3, 4, 6, 3, 1, 2, 5, 2, 5, 1, 4, 3, 2, 6, 6, 3, 2, 3, 5, 5, 2, 6, 3, 6, 2]\n",
            "Excelente  -  4\n",
            "Bom  -  2\n",
            "Regular  -  6\n",
            "Ruim  -  6\n",
            "Péssimo  -  2\n",
            "Conceito mais votado: Bom\n",
            "Recebeu 6 votos\n"
          ]
        }
      ],
      "source": [
        "#Exercico 1: –Construa um programa que gera uma lista com as avaliações de 25 pessoas. Cada pessoa avaliou a gestão do\n",
        "#prefeito de uma cidade com notas de 5 a 1, onde 5 corresponde a Excelente, 4 a Bom, 3 a Regular, 2 a Ruim e 1 a Péssimo. Seu\n",
        "#programa deve calcular e escrever:\n",
        "# A quantidade de votos em cada conceito.\n",
        "import random\n",
        "lista = []\n",
        "for i in range(1,26):\n",
        "    lista.append(random.randint(1,6))\n",
        "print(\"Notas\", lista)\n",
        "\n",
        "conceito = []\n",
        "qtd = []\n",
        "conceito.append('Excelente')\n",
        "qtd.append(lista.count(5))\n",
        "conceito.append('Bom')\n",
        "qtd.append(lista.count(4))\n",
        "conceito.append('Regular')\n",
        "qtd.append(lista.count(3))\n",
        "conceito.append('Ruim')\n",
        "qtd.append(lista.count(2))\n",
        "conceito.append('Péssimo')\n",
        "qtd.append(lista.count(1))\n",
        "\n",
        "maiorQtd = qtd[0]\n",
        "maiorConceito = conceito[0]\n",
        "for i in range(0,5):\n",
        "   print(conceito[i], \" - \", qtd[i])\n",
        "   if qtd[i] > maiorQtd:\n",
        "    maiorQtd = qtd[i]\n",
        "    maiorConceito = conceito[1]\n",
        "print(\"Conceito mais votado:\", maiorConceito)\n",
        "print(\"Recebeu\", maiorQtd, \"votos\")"
      ]
    },
    {
      "cell_type": "code",
      "source": [
        "#Exercício 2: Defina uma lista com a idade de 20 pessoas. Seu programa deve calcular e escrever:\n",
        "# média de idade, maior e menor idade.\n",
        "import random\n",
        "idades = []\n",
        "for i in range(1,21):\n",
        "    idades.append(random.randint(1,91))\n",
        "print(\"Idades:\", idades)\n",
        "\n",
        "#media de idades:\n",
        "media = (sum(idades)//len(idades))\n",
        "print(\"Média das idades:\", media)\n",
        "\n",
        "#maior idade:\n",
        "maior = max(idades)\n",
        "print(\"Maior idade:\", maior)\n",
        "\n",
        "#menor idade:\n",
        "menor = min(idades)\n",
        "print(\"Menor idade:\", menor)"
      ],
      "metadata": {
        "colab": {
          "base_uri": "https://localhost:8080/"
        },
        "id": "8rgfALI0W20p",
        "outputId": "335595fe-898d-4292-b250-8392b5c2df9f"
      },
      "execution_count": 11,
      "outputs": [
        {
          "output_type": "stream",
          "name": "stdout",
          "text": [
            "Idades: [70, 28, 69, 35, 91, 76, 73, 78, 75, 7, 76, 36, 65, 25, 29, 86, 65, 19, 42, 84]\n",
            "Média das idades: 56\n",
            "Maior idade: 91\n",
            "Menor idade: 7\n"
          ]
        }
      ]
    },
    {
      "cell_type": "code",
      "source": [
        "#Exercício 3: Elabore um programa que gera uma lista com 30 valores inteiros, cria e escreve uma outra lista com os\n",
        "#10 maiores.\n",
        "import random\n",
        "valores = []\n",
        "for i in range(1,31):\n",
        "    valores.append(random.randint(1,101))\n",
        "print(\"Valores inteiros:\", valores)\n",
        "\n",
        "#lista com os 10 maiores\n",
        "valores.sort()\n",
        "print(valores)\n",
        "valores.reverse()\n",
        "print(lista)\n",
        "indice = 0\n",
        "maiores = []\n",
        "while indice < 10:\n",
        "    maiores.append(valores[indice])\n",
        "    indice = indice + 1\n",
        "print(\"10 maiores:\", maiores)\n",
        "\n"
      ],
      "metadata": {
        "colab": {
          "base_uri": "https://localhost:8080/"
        },
        "id": "pnHylUWfW6yn",
        "outputId": "3c0f1923-7bbb-4983-a201-cc20d34581df"
      },
      "execution_count": 20,
      "outputs": [
        {
          "output_type": "stream",
          "name": "stdout",
          "text": [
            "Valores inteiros: [10, 21, 79, 50, 3, 10, 28, 25, 96, 23, 9, 36, 9, 43, 6, 95, 88, 79, 96, 33, 44, 88, 11, 56, 93, 18, 80, 60, 91, 42]\n",
            "[3, 6, 9, 9, 10, 10, 11, 18, 21, 23, 25, 28, 33, 36, 42, 43, 44, 50, 56, 60, 79, 79, 80, 88, 88, 91, 93, 95, 96, 96]\n",
            "[]\n",
            "10 maiores: [96, 96, 95, 93, 91, 88, 88, 80, 79, 79]\n"
          ]
        }
      ]
    }
  ]
}