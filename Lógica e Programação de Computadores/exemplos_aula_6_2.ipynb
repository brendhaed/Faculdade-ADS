{
  "nbformat": 4,
  "nbformat_minor": 0,
  "metadata": {
    "colab": {
      "provenance": [],
      "authorship_tag": "ABX9TyO2c7OA4A6ALivR/B6qgfi7",
      "include_colab_link": true
    },
    "kernelspec": {
      "name": "python3",
      "display_name": "Python 3"
    },
    "language_info": {
      "name": "python"
    }
  },
  "cells": [
    {
      "cell_type": "markdown",
      "metadata": {
        "id": "view-in-github",
        "colab_type": "text"
      },
      "source": [
        "<a href=\"https://colab.research.google.com/github/brendhaed/Faculdade-ADS/blob/main/L%C3%B3gica%20e%20Programa%C3%A7%C3%A3o%20de%20Computadores/exemplos_aula_6_2.ipynb\" target=\"_parent\"><img src=\"https://colab.research.google.com/assets/colab-badge.svg\" alt=\"Open In Colab\"/></a>"
      ]
    },
    {
      "cell_type": "code",
      "execution_count": 2,
      "metadata": {
        "colab": {
          "base_uri": "https://localhost:8080/"
        },
        "id": "BjjlGPsPPqH8",
        "outputId": "019c005b-4f1d-4f6f-b982-71784af0d24e"
      },
      "outputs": [
        {
          "output_type": "stream",
          "name": "stdout",
          "text": [
            "Digite o numero de termos: 3\n",
            "Soma: 1.8333333333333333\n"
          ]
        }
      ],
      "source": [
        "# Exemplo 1: implemente um programa que calcula a soma do n primeiros termos da serie:\n",
        "# 1 + 1/2 + 1/3 + 1/4 + 1/5 +.....\n",
        "\n",
        "nTermos = int(input(\"Digite o numero de termos: \"))\n",
        "if nTermos <= 0: print(\"Numero de termos invalido\")\n",
        "else:\n",
        " soma = 0\n",
        " cont = 1\n",
        "while cont <= nTermos:\n",
        " soma = soma + 1/cont\n",
        " cont = cont + 1\n",
        "print(\"Soma:\", soma)\n"
      ]
    },
    {
      "cell_type": "code",
      "source": [
        "# Exemplo 2: implemente um programa que calcula a soma do n primeiros termos da serie:\n",
        "# 2 + 4/2 + 6/5 + 8/7 + 10/9 +.....\n",
        "\n",
        "nTermos = int(input(\"Digite o numero de termos: \"))\n",
        "if nTermos <= 0: print(\"Numero de termos invalido\")\n",
        "else:\n",
        " soma = 0\n",
        " cont = 1\n",
        " numerador = 2\n",
        " denominador = 1\n",
        "while cont <= nTermos:\n",
        " soma = soma + numerador/denominador\n",
        " cont = cont + 1\n",
        " numerador = numerador + 2\n",
        " denominador = denominador + 2\n",
        "print(\"Soma:\", soma)"
      ],
      "metadata": {
        "colab": {
          "base_uri": "https://localhost:8080/"
        },
        "id": "JITH5lIhSgYm",
        "outputId": "5e49cb52-df3e-42ff-bc56-dcd95210d15d"
      },
      "execution_count": 4,
      "outputs": [
        {
          "output_type": "stream",
          "name": "stdout",
          "text": [
            "Digite o numero de termos: 2\n",
            "Soma: 3.333333333333333\n"
          ]
        }
      ]
    },
    {
      "cell_type": "code",
      "source": [
        "#Exemplo 3: implemente um programa que leia dois valores a e b.O programa deve escrevere somar os\n",
        "#valores impares existentes entre a e b\n",
        "a = int(input(\"Informe o valor inicial: \"))\n",
        "while a <= 0:\n",
        "   print(\"Valor inicial invalido\")\n",
        "   a = int(input(\"Informe novamente o valor inicial: \"))\n",
        "\n",
        "b = int(input(\"Informe o valor final: \"))\n",
        "while b <= 0:\n",
        "  print(\"Valor final invalido\")\n",
        "  b = int(input(\"Informe novamente o valor final: \"))\n",
        "\n",
        "# The following code block was incorrectly indented\n",
        "if a > b:\n",
        "    aux = a\n",
        "    a = b\n",
        "    b = aux\n",
        "\n",
        "if a%2==0:\n",
        "    a = a+1\n",
        "soma = 0\n",
        "print(\"Valores impares do intervalo:\")\n",
        "while a <= b:\n",
        "    print(a)\n",
        "    soma = soma + a\n",
        "    a = a + 2\n",
        "print(\"Soma dos impares do intervalo:\", soma)"
      ],
      "metadata": {
        "colab": {
          "base_uri": "https://localhost:8080/"
        },
        "id": "rl24Nf_NUp2t",
        "outputId": "d5c845cf-0fa9-413e-9109-f5a9411a70a7"
      },
      "execution_count": 9,
      "outputs": [
        {
          "output_type": "stream",
          "name": "stdout",
          "text": [
            "Informe o valor inicial: 15\n",
            "Informe o valor final: 25\n",
            "Valores impares do intervalo:\n",
            "15\n",
            "17\n",
            "19\n",
            "21\n",
            "23\n",
            "25\n",
            "Soma dos impares do intervalo: 120\n"
          ]
        }
      ]
    },
    {
      "cell_type": "code",
      "source": [
        "#Exemplo 4: Implemente um programa que leia um valor e verifique se é perfeito.\n",
        "#Para ser perfeito, ele deve corresponde ‘a soma dos seus divisores próprios.\n",
        "num = int(input(\"Digite um numero inteiro e positivo: \"))\n",
        "while num <= 0:\n",
        "  print(\"Numero invalido, o numero deve ser positivo\")\n",
        "  num = int(input(\"Digite um numero inteiro e positivo: \"))\n",
        "soma = 0\n",
        "d = 1\n",
        "while d<=num/2:\n",
        " if num%d == 0: soma = soma + d\n",
        " d = d + 1\n",
        "if soma == num: print(\"Número perfeito\")\n",
        "else: print(\"O numero não é perfeito\")"
      ],
      "metadata": {
        "colab": {
          "base_uri": "https://localhost:8080/"
        },
        "id": "2xD5XRnqcDsA",
        "outputId": "2bdf273f-81d1-4fc2-fa79-49fcdfb0d085"
      },
      "execution_count": 13,
      "outputs": [
        {
          "output_type": "stream",
          "name": "stdout",
          "text": [
            "Digite um numero inteiro e positivo: 6\n",
            "Número perfeito\n"
          ]
        }
      ]
    }
  ]
}