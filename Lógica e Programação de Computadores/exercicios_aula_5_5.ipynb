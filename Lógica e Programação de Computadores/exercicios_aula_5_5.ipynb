{
  "nbformat": 4,
  "nbformat_minor": 0,
  "metadata": {
    "colab": {
      "provenance": [],
      "authorship_tag": "ABX9TyM6e3/RQO7b4MiMPpW6di9K",
      "include_colab_link": true
    },
    "kernelspec": {
      "name": "python3",
      "display_name": "Python 3"
    },
    "language_info": {
      "name": "python"
    }
  },
  "cells": [
    {
      "cell_type": "markdown",
      "metadata": {
        "id": "view-in-github",
        "colab_type": "text"
      },
      "source": [
        "<a href=\"https://colab.research.google.com/github/brendhaed/Faculdade-ADS/blob/main/L%C3%B3gica%20e%20Programa%C3%A7%C3%A3o%20de%20Computadores/exercicios_aula_5_5.ipynb\" target=\"_parent\"><img src=\"https://colab.research.google.com/assets/colab-badge.svg\" alt=\"Open In Colab\"/></a>"
      ]
    },
    {
      "cell_type": "code",
      "execution_count": null,
      "metadata": {
        "id": "yCUOXP3urvG9",
        "colab": {
          "base_uri": "https://localhost:8080/"
        },
        "outputId": "e78cb4c8-8fb8-4cee-fa7b-44024dd61916"
      },
      "outputs": [
        {
          "output_type": "stream",
          "name": "stdout",
          "text": [
            "Tentativa 1:60\n",
            "Tente um número menor\n",
            "Tentativa 2:40\n",
            "Tente um número maior\n",
            "Tentativa 3:53\n",
            "Tente um número maior\n",
            "Tentativa 4:55\n",
            "Tente um número maior\n",
            "Tentativa 5:59\n",
            "Tente um número menor\n",
            "Tentativa 6:58\n",
            "Você acertou!\n"
          ]
        }
      ],
      "source": [
        "#Exercício 1:Jogo da adivinhação\n",
        "# 10 tentativas para adivinhar um número sorteado entre 1 a 100\n",
        "# Computador informa se o número é maior ou menor que o digitado\n",
        "\n",
        "import random\n",
        "\n",
        "sorteado = random.randint(1,100)\n",
        "#print(f\"Sorteado: {sorteado}\")\n",
        "tentativas = False\n",
        "for tent in range(1,11):\n",
        "  print(f\"Tentativa {tent}:\", end=\"\")\n",
        "  num = int(input())\n",
        "  if num < sorteado:\n",
        "    print(\"Tente um número maior\")\n",
        "  elif num > sorteado:\n",
        "    print(\"Tente um número menor\")\n",
        "  else:\n",
        "    tentativas = True\n",
        "    break\n",
        "\n",
        "if tentativas:\n",
        "    print(\"Você acertou!\")\n",
        "else: print(f\"Você perdeu o número era:{sorteado}\")"
      ]
    },
    {
      "cell_type": "code",
      "source": [
        "#Exercicio 2:\n",
        "import random\n",
        "\n",
        "somaRendas = 0\n",
        "somaIdades = 0\n",
        "qtdMais3Filhos = 0\n",
        "qtdHomensMenor30 = 0\n",
        "somaFilhos = 0\n",
        "rendaHomemMaisVelho = 0\n",
        "idadeHomemMaisVelho = 0\n",
        "idadeMulherMaiorRenda = 0\n",
        "mulherMaiorRenda = 0\n",
        "totalHabitantes = 2000\n",
        "\n",
        "\n",
        "for cont in range(2000):\n",
        " idade = random.randint(18,80)\n",
        "renda = random.randint(1200,12000)\n",
        "genero = random.choice([\"m\",\"f\"])\n",
        "qtdFilhos = random.randint(0,5)\n",
        "\n",
        "#1. media de rendas\n",
        "somaRendas += renda\n",
        "#2. media de idade com mais de 3 filhos\n",
        "if qtdFilhos > 3:\n",
        "    somaIdades += idade\n",
        "    qtdMais3Filhos += 1\n",
        "#3. quantidade de homens com menos de 30 anos\n",
        "if genero == \"m\" and idade < 30:\n",
        "    qtdHomensMenor30 += 1\n",
        "#4. media numero de filhos\n",
        "somaFilhos += qtdFilhos\n",
        "#5. renda homem mais velho\n",
        "if genero == \"m\" and idade > idadeHomemMaisVelho:\n",
        "   idadeHomemMaisVelho = idade\n",
        "   rendaHomemMaisVelho = renda\n",
        "#6. idade mulher com maior renda\n",
        "if genero == \"f\" and renda > mulherMaiorRenda:\n",
        "    idadeMulherMaiorRenda = idade\n",
        "    mulherMaiorRenda = renda\n",
        "\n",
        "# Resultados\n",
        "mediaRenda = somaRendas / totalHabitantes\n",
        "mediaMais3Filhos = somaIdades // qtdMais3Filhos if qtdMais3Filhos else 0\n",
        "mediaFilhos = somaFilhos // totalHabitantes\n",
        "\n",
        "print(f\"Media de rendas: {mediaRenda}\")\n",
        "print(f\"Media de idade com mais de 3 filhos: {mediaMais3Filhos}\")\n",
        "print(f\"Quantidade de homens com menos de 30 anos: {qtdHomensMenor30}\")\n",
        "print(f\"Media numero de filhos: {mediaFilhos}\")\n",
        "print(f\"Renda homem mais velho: {rendaHomemMaisVelho}\")\n",
        "print(f\"Idade mulher com maior renda: {idadeMulherMaiorRenda}\")\n",
        ""
      ],
      "metadata": {
        "colab": {
          "base_uri": "https://localhost:8080/"
        },
        "id": "UcSXiNRC-YBK",
        "outputId": "f10abef5-3a0b-47d8-cd70-1a19b2ddbe77"
      },
      "execution_count": 4,
      "outputs": [
        {
          "output_type": "stream",
          "name": "stdout",
          "text": [
            "Media de rendas: 3.293\n",
            "Media de idade com mais de 3 filhos: 42\n",
            "Quantidade de homens com menos de 30 anos: 0\n",
            "Media numero de filhos: 0\n",
            "Renda homem mais velho: 0\n",
            "Idade mulher com maior renda: 42\n"
          ]
        }
      ]
    }
  ]
}