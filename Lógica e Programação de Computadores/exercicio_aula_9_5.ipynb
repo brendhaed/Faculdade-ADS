{
  "nbformat": 4,
  "nbformat_minor": 0,
  "metadata": {
    "colab": {
      "provenance": [],
      "authorship_tag": "ABX9TyPqQx8Jk/Pg8051aD+Cinbv",
      "include_colab_link": true
    },
    "kernelspec": {
      "name": "python3",
      "display_name": "Python 3"
    },
    "language_info": {
      "name": "python"
    }
  },
  "cells": [
    {
      "cell_type": "markdown",
      "metadata": {
        "id": "view-in-github",
        "colab_type": "text"
      },
      "source": [
        "<a href=\"https://colab.research.google.com/github/brendhaed/Faculdade-ADS/blob/main/L%C3%B3gica%20e%20Programa%C3%A7%C3%A3o%20de%20Computadores/exercicio_aula_9_5.ipynb\" target=\"_parent\"><img src=\"https://colab.research.google.com/assets/colab-badge.svg\" alt=\"Open In Colab\"/></a>"
      ]
    },
    {
      "cell_type": "code",
      "execution_count": 1,
      "metadata": {
        "colab": {
          "base_uri": "https://localhost:8080/"
        },
        "id": "UP7_xSwYKF-d",
        "outputId": "5ebf337c-7840-49f6-f42c-5a4e76d11c8d"
      },
      "outputs": [
        {
          "output_type": "stream",
          "name": "stdout",
          "text": [
            "  % Total    % Received % Xferd  Average Speed   Time    Time     Time  Current\n",
            "                                 Dload  Upload   Total   Spent    Left  Speed\n",
            "100  1078  100  1078    0     0   3122      0 --:--:-- --:--:-- --:--:--  3124\n",
            "  % Total    % Received % Xferd  Average Speed   Time    Time     Time  Current\n",
            "                                 Dload  Upload   Total   Spent    Left  Speed\n",
            "100 1980k  100 1980k    0     0  3193k      0 --:--:-- --:--:-- --:--:-- 3198k\n"
          ]
        }
      ],
      "source": [
        "#importar dados\n",
        "!curl https://raw.githubusercontent.com/mflash/logicaeprogramacao/main/aula09/partidos-fake.csv -o partidos-fake.csv\n",
        "!curl https://raw.githubusercontent.com/mflash/logicaeprogramacao/main/aula09/eleicoes-municipais-fake.csv -o eleicoes-municipais-fake.csv"
      ]
    },
    {
      "cell_type": "code",
      "source": [
        "#exercicio pt1: : determinar a composição da Câmara Municipal de uma determinada cidade\n",
        "cid = input(\"Cidade:\").upper()\n",
        "vagas = int(input(\"Vagas:\"))\n",
        "\n",
        "partidos = {}   # nome, total de votos, vagas (quoc. part) e media\n",
        "votos = {}      # sigla e total de votos\n",
        "totalGeral = 0\n",
        "\n",
        "with open(\"partidos-fake.csv\") as csv:\n",
        "  csv.readline()\n",
        "  for linha in csv:\n",
        "    dados = linha[:-1].split(\",\")\n",
        "    aux = { 'nome': dados[1], 'votos': 0, 'vagas': 0,\n",
        "           'media': 0}\n",
        "    partidos[dados[0]] = aux\n",
        "\n",
        "with open(\"eleicoes-municipais-fake.csv\") as csv:\n",
        "  csv.readline()\n",
        "  for linha in csv:\n",
        "    dados = linha[:-1].split(\",\")\n",
        "    cidade = dados[1]\n",
        "    sigla = dados[2]\n",
        "    cargo = dados[3]\n",
        "    nome = dados[4]\n",
        "    totalVotos = int(dados[5])\n",
        "    if cidade != cid or cargo != \"VEREADOR\":\n",
        "      continue\n",
        "    if nome not in votos:\n",
        "      votos[nome] = { \"sigla\": sigla, \"votos\": 0}\n",
        "    votos[nome][\"votos\"] += totalVotos\n",
        "    partidos[sigla][\"votos\"] += totalVotos\n",
        "    totalGeral += totalVotos\n",
        "\n",
        "\n",
        "print(partidos)"
      ],
      "metadata": {
        "colab": {
          "base_uri": "https://localhost:8080/"
        },
        "id": "-DaNLCLkOKju",
        "outputId": "bf870d6b-9cf2-4dd6-b01e-6a19cfc70f3a"
      },
      "execution_count": 6,
      "outputs": [
        {
          "output_type": "stream",
          "name": "stdout",
          "text": [
            "Cidade:porto alegre\n",
            "Vagas:36\n",
            "{'PR': {'nome': 'PARTIDO RENASCENTISTA', 'votos': 55276, 'vagas': 0, 'media': 0}, 'PV': {'nome': 'PARTIDO VIAJANTE', 'votos': 58136, 'vagas': 0, 'media': 0}, 'PG': {'nome': 'PARTIDO GRANDIOSO ', 'votos': 46495, 'vagas': 0, 'media': 0}, 'PSF': {'nome': 'PARTIDO SOCIAL FELIZ', 'votos': 18684, 'vagas': 0, 'media': 0}, 'PVN': {'nome': 'PARTIDO VIGILANTE NACIONAL', 'votos': 72397, 'vagas': 0, 'media': 0}, 'PGB': {'nome': 'PARTIDO GRANDE BRASILEIRO', 'votos': 68148, 'vagas': 0, 'media': 0}, 'PST': {'nome': 'PARTIDO SOCIAL DA TERRA', 'votos': 51590, 'vagas': 0, 'media': 0}, 'PEN': {'nome': 'PARTIDO DO EMPREGO NACIONAL', 'votos': 26856, 'vagas': 0, 'media': 0}, 'PPL': {'nome': 'PARTIDO DA POLITICA LIVRE', 'votos': 0, 'vagas': 0, 'media': 0}, 'PGDB': {'nome': 'PARTIDO GRANDE DO BRASIL', 'votos': 1056, 'vagas': 0, 'media': 0}, 'PSO': {'nome': 'PARTIDO SEMPRE OUVINTE', 'votos': 0, 'vagas': 0, 'media': 0}, 'MFT': {'nome': 'MOVIMENTO FELIZ E TRABALHADOR', 'votos': 28043, 'vagas': 0, 'media': 0}, 'PAC': {'nome': 'PARTIDO DA AÇÃO COMUNITÁRIA', 'votos': 18131, 'vagas': 0, 'media': 0}, 'PPI': {'nome': 'PARTIDO DAS PESSOAS INTELIGENTES', 'votos': 16986, 'vagas': 0, 'media': 0}, 'PMMA': {'nome': 'PARTIDO DO MOVIMENTO MIGRATÓRIO DAS AVES', 'votos': 3723, 'vagas': 0, 'media': 0}, 'PCT': {'nome': 'PARTIDO CHAMADO DA TERRA', 'votos': 15441, 'vagas': 0, 'media': 0}, 'PPF': {'nome': 'PARTIDO DAS PESSOAS FELIZES', 'votos': 20069, 'vagas': 0, 'media': 0}, 'PA': {'nome': 'PARTIDO DA ALEGRIA', 'votos': 6655, 'vagas': 0, 'media': 0}, 'PO': {'nome': 'PARTIDO DA OPINIÃO', 'votos': 13969, 'vagas': 0, 'media': 0}, 'PRB': {'nome': 'PARTIDO DA RESISTÊNCIA BRASILEIRA', 'votos': 0, 'vagas': 0, 'media': 0}, 'PLI': {'nome': 'PARTIDO DA LIBERDADE INDIVIDUAL', 'votos': 51429, 'vagas': 0, 'media': 0}, 'PE': {'nome': ' PARTIDO DA ETICA', 'votos': 713, 'vagas': 0, 'media': 0}, 'PSN': {'nome': 'PARTIDO SEM NOME', 'votos': 0, 'vagas': 0, 'media': 0}, 'PPC': {'nome': 'PARTIDO DOS PROGRAMADORES DE COMPUTADORES', 'votos': 1185, 'vagas': 0, 'media': 0}, 'PPO': {'nome': 'PARTIDO DAS PESSOAS OCIOSAS', 'votos': 886, 'vagas': 0, 'media': 0}, 'PPP': {'nome': 'PARTIDO DA PATRIA PERFEITA', 'votos': 17753, 'vagas': 0, 'media': 0}, 'PUB': {'nome': 'PARTIDO DA UNIFICAÇÃO BRASILEIRA', 'votos': 0, 'vagas': 0, 'media': 0}, 'PEC': {'nome': 'PARTIDO DOS EXPERIMENTOS CIENTIFICOS', 'votos': 76, 'vagas': 0, 'media': 0}, 'PLB': {'nome': 'PARTIDO DOS LEITORES BRASILEIROS', 'votos': 840, 'vagas': 0, 'media': 0}, 'PS': {'nome': 'PARTIDO DA SAÚDE', 'votos': 57, 'vagas': 0, 'media': 0}, 'PEB': {'nome': 'PARTIDO DA EDUCAÇÃO BRASILEIRA', 'votos': 374, 'vagas': 0, 'media': 0}, 'PIA': {'nome': 'PARTIDO DOS IRRESPONSÁVEIS ARREPENDIDOS', 'votos': 26363, 'vagas': 0, 'media': 0}, 'PCN': {'nome': 'PARTIDO DA CAUSA NERD', 'votos': 0, 'vagas': 0, 'media': 0}}\n"
          ]
        }
      ]
    },
    {
      "cell_type": "code",
      "source": [
        "#exercicio pt2:\n",
        "print(f\"Total votos: {totalGeral}\")\n",
        "qe = totalGeral//vagas\n",
        "print(f\"QE: {qe}\")\n",
        "\n",
        "# Calcula as vagas iniciais\n",
        "somaVagas = 0\n",
        "\n",
        "for sigla,dados in partidos.items():\n",
        "  qp = dados['votos']//qe\n",
        "  if qp > 0:\n",
        "    dados['vagas'] = qp\n",
        "    somaVagas += qp\n",
        "    print(sigla,dados)\n",
        "\n",
        "print()\n",
        "print(\"Total de vagas já ocupadas:\",somaVagas)\n",
        "print()"
      ],
      "metadata": {
        "colab": {
          "base_uri": "https://localhost:8080/"
        },
        "id": "tQ3YNr5yOPQf",
        "outputId": "c4bbaf7e-2886-40bc-b621-912666bb3425"
      },
      "execution_count": 7,
      "outputs": [
        {
          "output_type": "stream",
          "name": "stdout",
          "text": [
            "Total votos: 621331\n",
            "QE: 17259\n",
            "PR {'nome': 'PARTIDO RENASCENTISTA', 'votos': 55276, 'vagas': 3, 'media': 0}\n",
            "PV {'nome': 'PARTIDO VIAJANTE', 'votos': 58136, 'vagas': 3, 'media': 0}\n",
            "PG {'nome': 'PARTIDO GRANDIOSO ', 'votos': 46495, 'vagas': 2, 'media': 0}\n",
            "PSF {'nome': 'PARTIDO SOCIAL FELIZ', 'votos': 18684, 'vagas': 1, 'media': 0}\n",
            "PVN {'nome': 'PARTIDO VIGILANTE NACIONAL', 'votos': 72397, 'vagas': 4, 'media': 0}\n",
            "PGB {'nome': 'PARTIDO GRANDE BRASILEIRO', 'votos': 68148, 'vagas': 3, 'media': 0}\n",
            "PST {'nome': 'PARTIDO SOCIAL DA TERRA', 'votos': 51590, 'vagas': 2, 'media': 0}\n",
            "PEN {'nome': 'PARTIDO DO EMPREGO NACIONAL', 'votos': 26856, 'vagas': 1, 'media': 0}\n",
            "MFT {'nome': 'MOVIMENTO FELIZ E TRABALHADOR', 'votos': 28043, 'vagas': 1, 'media': 0}\n",
            "PAC {'nome': 'PARTIDO DA AÇÃO COMUNITÁRIA', 'votos': 18131, 'vagas': 1, 'media': 0}\n",
            "PPF {'nome': 'PARTIDO DAS PESSOAS FELIZES', 'votos': 20069, 'vagas': 1, 'media': 0}\n",
            "PLI {'nome': 'PARTIDO DA LIBERDADE INDIVIDUAL', 'votos': 51429, 'vagas': 2, 'media': 0}\n",
            "PPP {'nome': 'PARTIDO DA PATRIA PERFEITA', 'votos': 17753, 'vagas': 1, 'media': 0}\n",
            "PIA {'nome': 'PARTIDO DOS IRRESPONSÁVEIS ARREPENDIDOS', 'votos': 26363, 'vagas': 1, 'media': 0}\n",
            "\n",
            "Total de vagas já ocupadas: 26\n",
            "\n"
          ]
        }
      ]
    },
    {
      "cell_type": "code",
      "source": [
        "#exercicio pt3:\n",
        "# Calcula a média de cada partido, de acordo com o total de votos e as vagas já recebidas\n",
        "\n",
        "for sigla,dados in partidos.items():\n",
        "  me = dados['votos']//(dados['vagas']+1)\n",
        "  dados['media'] = me\n",
        "  #print(sigla,dados)\n",
        "\n",
        "# Distribuir vagas disponíveis para cada partido, em ordem decrescente\n",
        "# de media\n",
        "for sigla,dados in sorted(partidos.items(), key=lambda x:x[1]['media'],\n",
        "                          reverse=True):\n",
        "  if somaVagas < vagas:\n",
        "    dados['vagas'] += 1\n",
        "    somaVagas += 1\n",
        "\n",
        "#print(f\"Total vagas ocup.: {somaVagas}\")\n",
        "\n",
        "salvaVagas = {} # armazena o total de vagas original para cada partido\n",
        "for p in partidos:\n",
        "  salvaVagas[p] = partidos[p]['vagas']\n",
        "\n",
        "# Finalmente, passa por todos os candidatos, em ordem decrescente de votos,\n",
        "# e enquanto houver vagas para o partido, mostra que foi eleito (e diminui uma\n",
        "# vaga do partido)\n",
        "\n",
        "for nome,dados in sorted(votos.items(), key=lambda x:x[1]['votos'], reverse=True):\n",
        "  sigla = dados['sigla']\n",
        "  if partidos[sigla]['vagas'] > 0:\n",
        "    print(f\"{nome:40} {sigla:4} {dados['votos']} votos\")\n",
        "    partidos[sigla]['vagas'] -= 1\n"
      ],
      "metadata": {
        "colab": {
          "base_uri": "https://localhost:8080/"
        },
        "id": "juEwHY4oOio-",
        "outputId": "827e0083-b76e-4517-a3ba-777bac0fe8b0"
      },
      "execution_count": 8,
      "outputs": [
        {
          "output_type": "stream",
          "name": "stdout",
          "text": [
            "FERNANDA DE JESUS OLIVEIRA HENRIQUES     PLI  14630 votos\n",
            "MAURO ADRIANA LIPPERT DA SILVA           PG   13551 votos\n",
            "THIAGO DA SILVA VERNIERI                 MFT  12669 votos\n",
            "RODRIGO ALMEIDA VIEIRA                   PO   11770 votos\n",
            "FELIPE FERREIRA ABRAO                    PIA  10488 votos\n",
            "ELIZANDRO PAULA PINHEIRO BRUNO           PGB  9845 votos\n",
            "SOFIA ALTHAUS                            PV   9670 votos\n",
            "VALTER NOE FURTADO DE FRAGA              PVN  9300 votos\n",
            "CARLOS OSMAR DOS SANTOS LUIZ             PLI  8354 votos\n",
            "JOSE VIEIRA DE VARGAS                    PSF  7728 votos\n",
            "MARCELO RICARDO STURMER                  PV   7585 votos\n",
            "MONICA PRIGOL RIBEIRO                    PR   7254 votos\n",
            "JOSE FRAINS DE LIMA                      PPP  7106 votos\n",
            "ANDRE VINICIUS FRANQUI VARGAS            PVN  6882 votos\n",
            "MARCIO PAULA VELHO                       PG   6858 votos\n",
            "NADIA BRAGA COFFI                        PVN  6809 votos\n",
            "PABLO FRANCA DE OLIVEIRA                 PVN  6691 votos\n",
            "IDENIR AMARAL GOMES                      PVN  6342 votos\n",
            "RICARDO ANTONIO DE SOUZA NETTO           PR   5822 votos\n",
            "JOAO CARLOS BITELO                       PR   5346 votos\n",
            "CLAUDIO CESAR SANTOS DA SILVA            PPF  5288 votos\n",
            "CASSIO COLOMBY POLLNOW                   PGB  5144 votos\n",
            "AIRTO EDUARDO DA COSTA SOUSA             PST  5125 votos\n",
            "HUMBERTO DE DEUS FLORES                  PGB  4995 votos\n",
            "JOAO OLIVEIRA FERNANDES                  PG   4993 votos\n",
            "MAURO FRANTZ JUNIOR                      PPI  4984 votos\n",
            "PAULO HELENA ALIATTI PELEGRINI           PGB  4850 votos\n",
            "RAMIRO LONDERO                           PEN  4676 votos\n",
            "REGINALDO APARECIDA MACHADO CAMPOS       MFT  3772 votos\n",
            "ALEXSANDER CENTOFANTE                    PLI  3710 votos\n",
            "JUSSARA PRATES                           PCT  3698 votos\n",
            "PAULO DEON                               PST  3691 votos\n",
            "ALDACIR MARI VOGEL                       PV   3569 votos\n",
            "ADELI MARIA GOULARTE FEIJO               PV   3387 votos\n",
            "LETICIA PAULA PIOTROWSKI                 PST  3195 votos\n",
            "GILSOMAR GOBATTO                         PAC  2827 votos\n"
          ]
        }
      ]
    },
    {
      "cell_type": "code",
      "source": [
        "#exercicio pt4\n",
        "import matplotlib.pyplot as plt\n",
        "\n",
        "print(salvaVagas)\n",
        "\n",
        "totalFinalVagas = 0\n",
        "nomes = []\n",
        "valores = []\n",
        "\n",
        "# Monta a lista de nomes (siglas) e valores (total de votos) para o gráfico\n",
        "for p in salvaVagas:\n",
        "  if salvaVagas[p] > 0:\n",
        "    nomes.append(p)\n",
        "    valores.append(salvaVagas[p])\n",
        "    totalFinalVagas += salvaVagas[p]\n",
        "\n",
        "print()\n",
        "print(\"Total de vagas ocupadas:\",totalFinalVagas)\n",
        "print()\n",
        "\n",
        "plt.figure(figsize=(10,4))\n",
        "plt.xticks(rotation=30, ha='right')\n",
        "plt.bar(nomes,valores)\n",
        "plt.show()"
      ],
      "metadata": {
        "colab": {
          "base_uri": "https://localhost:8080/",
          "height": 470
        },
        "id": "fjsQep4RO0eF",
        "outputId": "75390f34-7521-42fd-b2d2-447d824b2b4d"
      },
      "execution_count": 9,
      "outputs": [
        {
          "output_type": "stream",
          "name": "stdout",
          "text": [
            "{'PR': 3, 'PV': 4, 'PG': 3, 'PSF': 1, 'PVN': 5, 'PGB': 4, 'PST': 3, 'PEN': 1, 'PPL': 0, 'PGDB': 0, 'PSO': 0, 'MFT': 2, 'PAC': 1, 'PPI': 1, 'PMMA': 0, 'PCT': 1, 'PPF': 1, 'PA': 0, 'PO': 1, 'PRB': 0, 'PLI': 3, 'PE': 0, 'PSN': 0, 'PPC': 0, 'PPO': 0, 'PPP': 1, 'PUB': 0, 'PEC': 0, 'PLB': 0, 'PS': 0, 'PEB': 0, 'PIA': 1, 'PCN': 0}\n",
            "\n",
            "Total de vagas ocupadas: 36\n",
            "\n"
          ]
        },
        {
          "output_type": "display_data",
          "data": {
            "text/plain": [
              "<Figure size 1000x400 with 1 Axes>"
            ],
            "image/png": "[encoded data removed]"
          },
          "metadata": {}
        }
      ]
    }
  ]
}