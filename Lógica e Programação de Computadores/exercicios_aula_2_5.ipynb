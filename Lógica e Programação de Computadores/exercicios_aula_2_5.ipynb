{
  "nbformat": 4,
  "nbformat_minor": 0,
  "metadata": {
    "colab": {
      "provenance": [],
      "authorship_tag": "ABX9TyMvZmcajV4VAlF01xRHZgWP",
      "include_colab_link": true
    },
    "kernelspec": {
      "name": "python3",
      "display_name": "Python 3"
    },
    "language_info": {
      "name": "python"
    }
  },
  "cells": [
    {
      "cell_type": "markdown",
      "metadata": {
        "id": "view-in-github",
        "colab_type": "text"
      },
      "source": [
        "<a href=\"https://colab.research.google.com/github/brendhaed/Faculdade-ADS/blob/main/L%C3%B3gica%20e%20Programa%C3%A7%C3%A3o%20de%20Computadores/exercicios_aula_2_5.ipynb\" target=\"_parent\"><img src=\"https://colab.research.google.com/assets/colab-badge.svg\" alt=\"Open In Colab\"/></a>"
      ]
    },
    {
      "cell_type": "code",
      "execution_count": null,
      "metadata": {
        "colab": {
          "base_uri": "https://localhost:8080/"
        },
        "id": "1boGw4Q7Qb8K",
        "outputId": "ad53274f-12d8-44b0-9380-eda22aacad3a"
      },
      "outputs": [
        {
          "output_type": "stream",
          "name": "stdout",
          "text": [
            "Informe o valor em fahrenheit:\n",
            "100\n",
            "Celsius: 37.77777777777778\n"
          ]
        }
      ],
      "source": [
        "print(\"Informe o valor em fahrenheit:\")\n",
        "f = float(input())\n",
        "c = 5/9 *(f-32)\n",
        "print (\"Celsius:\", c)"
      ]
    },
    {
      "cell_type": "code",
      "source": [
        "import math\n",
        "\n",
        "print(\"Informe um valor:\")\n",
        "valor1 = int(input())\n",
        "print(\"Informe um segundo valor: \")\n",
        "valor2 = int(input())\n",
        "\n",
        "soma = valor1 + valor2\n",
        "print(\"Soma:\",soma)\n",
        "\n",
        "diferenca = valor1 - valor2\n",
        "print(\"Diferença:\", diferenca)\n",
        "\n",
        "media = (valor1 + valor2) /2\n",
        "print(\"Média entre os valores é: \",media)\n",
        "\n",
        "distancia = math.fabs(valor1-valor2)\n",
        "print(\"Diferença exata:\",distancia)\n",
        "\n",
        "maior = (valor1+valor2+math.fabs(valor1-valor2))/2\n",
        "print(\"O maior valor é \", maior)\n",
        "\n",
        "menor = (valor1+valor2-math.fabs(valor1-valor2))/2\n",
        "print(\"O menor valor é: \",menor)\n",
        "\n",
        "\n",
        "\n"
      ],
      "metadata": {
        "colab": {
          "base_uri": "https://localhost:8080/"
        },
        "id": "bQZsi0OnSl6Q",
        "outputId": "37339237-bb10-4562-de31-15213bbab8ef"
      },
      "execution_count": null,
      "outputs": [
        {
          "output_type": "stream",
          "name": "stdout",
          "text": [
            "Informe um valor:\n",
            "10\n",
            "Informe um segundo valor: \n",
            "20\n",
            "Soma: 30\n",
            "Diferença: -10\n",
            "Média entre os valores é:  15.0\n",
            "Diferença exata: 10.0\n",
            "O maior valor é  20.0\n",
            "O menor valor é:  10.0\n"
          ]
        }
      ]
    },
    {
      "cell_type": "code",
      "source": [
        "print(\"Informe o tempo em segundos:\")\n",
        "tempo=int(input())\n",
        "\n",
        "horas = tempo//3600\n",
        "print(\"Horas:\",horas)\n",
        "resto = tempo%3600\n",
        "minutos = resto//60\n",
        "print(\"Minutos:\", minutos)\n",
        "segundos= resto % 60\n",
        "print(\"Segundos:\", segundos)\n",
        "\n"
      ],
      "metadata": {
        "colab": {
          "base_uri": "https://localhost:8080/"
        },
        "id": "svpjzNdtbTpx",
        "outputId": "99b8087f-6526-4ae4-a615-fdf02c598ccf"
      },
      "execution_count": null,
      "outputs": [
        {
          "output_type": "stream",
          "name": "stdout",
          "text": [
            "Informe o tempo em segundos:\n",
            "7600\n",
            "Horas: 2\n",
            "Minutos: 6\n",
            "Segundos: 40\n"
          ]
        }
      ]
    },
    {
      "cell_type": "code",
      "source": [
        "print(\" Digite um valor inteiro de 4 digitos:\")\n",
        "valor = int(input())\n",
        "milhar = valor//1000\n",
        "resto = valor%1000\n",
        "centena = resto//100\n",
        "resto = resto%100\n",
        "dezena = resto//10\n",
        "unidade = resto%10\n",
        "\n",
        "print(\"Valor invertido:\", unidade*1000 + dezena*100 + centena*10 + milhar)"
      ],
      "metadata": {
        "colab": {
          "base_uri": "https://localhost:8080/"
        },
        "id": "un6uOpWugMh-",
        "outputId": "75aa01e8-90bf-42ab-f02d-b496ccc57baf"
      },
      "execution_count": null,
      "outputs": [
        {
          "output_type": "stream",
          "name": "stdout",
          "text": [
            " Digite um valor inteiro de 4 digitos:\n",
            "0101\n",
            "Valor invertido: 1010\n"
          ]
        }
      ]
    }
  ]
}