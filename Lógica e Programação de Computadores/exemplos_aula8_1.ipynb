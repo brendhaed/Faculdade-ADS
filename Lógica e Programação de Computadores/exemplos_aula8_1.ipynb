{
  "nbformat": 4,
  "nbformat_minor": 0,
  "metadata": {
    "colab": {
      "provenance": [],
      "authorship_tag": "ABX9TyN7mSVCBOTJ32+DAMa6vhg0",
      "include_colab_link": true
    },
    "kernelspec": {
      "name": "python3",
      "display_name": "Python 3"
    },
    "language_info": {
      "name": "python"
    }
  },
  "cells": [
    {
      "cell_type": "markdown",
      "metadata": {
        "id": "view-in-github",
        "colab_type": "text"
      },
      "source": [
        "<a href=\"https://colab.research.google.com/github/brendhaed/Faculdade-ADS/blob/main/L%C3%B3gica%20e%20Programa%C3%A7%C3%A3o%20de%20Computadores/exemplos_aula8_1.ipynb\" target=\"_parent\"><img src=\"https://colab.research.google.com/assets/colab-badge.svg\" alt=\"Open In Colab\"/></a>"
      ]
    },
    {
      "cell_type": "code",
      "execution_count": null,
      "metadata": {
        "colab": {
          "base_uri": "https://localhost:8080/"
        },
        "id": "-4GkbQZe0lej",
        "outputId": "72a7cf20-d069-46ce-c306-3592becab2dd"
      },
      "outputs": [
        {
          "output_type": "stream",
          "name": "stdout",
          "text": [
            "3\n",
            "menino\n",
            "1\n",
            "morango\n"
          ]
        }
      ],
      "source": [
        "#Exemplo 1\n",
        "lista = [] #lista vazia\n",
        "lista1 = [1,2,3]\n",
        "lista2 = [\"o\",\"menino\",\"jogou\",\"a\",\"bola\"]\n",
        "lista3 = [1,2,3,\"abacaxi\",\"morango\"]\n",
        "\n",
        "print(lista1[2])\n",
        "print(lista2[1])\n",
        "print(lista3[0])\n",
        "print(lista3[4])\n"
      ]
    },
    {
      "cell_type": "code",
      "source": [
        "#Exemplo 1: como percorrer uma lista com FOR\n",
        "lista3 = [1,2,3,\"abacaxi\",\"morango\"]\n",
        "\n",
        "for item in lista3:\n",
        "  print(item)"
      ],
      "metadata": {
        "colab": {
          "base_uri": "https://localhost:8080/"
        },
        "id": "VkGqaWTd24QF",
        "outputId": "803795ab-7e64-4ec6-a59d-a9fd0205494d"
      },
      "execution_count": null,
      "outputs": [
        {
          "output_type": "stream",
          "name": "stdout",
          "text": [
            "1\n",
            "2\n",
            "3\n",
            "abacaxi\n",
            "morango\n"
          ]
        }
      ]
    },
    {
      "cell_type": "code",
      "source": [
        "#Exemplo 1: como percorrer uma lista com WHILE\n",
        "lista3 = [1,2,3,\"abacaxi\",\"morango\"]\n",
        "\n",
        "print(\"Quantidade de elemntos:\", len(lista3))\n",
        "indice = 0\n",
        "while indice < len(lista3):\n",
        "  print(lista3[indice])\n",
        "  indice = indice + 1\n"
      ],
      "metadata": {
        "colab": {
          "base_uri": "https://localhost:8080/"
        },
        "id": "KO7jHF0q3l1j",
        "outputId": "73acb4dc-d1b7-4420-9d53-f2a3991e957a"
      },
      "execution_count": null,
      "outputs": [
        {
          "output_type": "stream",
          "name": "stdout",
          "text": [
            "Quantidade de elemntos: 5\n",
            "1\n",
            "2\n",
            "3\n",
            "abacaxi\n",
            "morango\n"
          ]
        }
      ]
    },
    {
      "cell_type": "code",
      "source": [
        "#Exemplo 2: concatenar listas\n",
        "lista = []\n",
        "lista1 = [\"o\",\"menino\",\"jogou\",\"a\",\"bola\"]\n",
        "\n",
        "lista = lista + [1]\n",
        "print(lista)\n",
        "lista = lista + [2]\n",
        "print(lista)\n",
        "lista2 = lista + lista1\n",
        "print(lista2)\n",
        "lista3 = ['a','b','c'] + lista2\n",
        "print(lista3)\n",
        "\n"
      ],
      "metadata": {
        "colab": {
          "base_uri": "https://localhost:8080/"
        },
        "id": "d-ai_Kai5bqS",
        "outputId": "80d619a1-9ab7-49d3-8e99-ce601f1d21eb"
      },
      "execution_count": null,
      "outputs": [
        {
          "output_type": "stream",
          "name": "stdout",
          "text": [
            "[1]\n",
            "[1, 2]\n",
            "[1, 2, 'o', 'menino', 'jogou', 'a', 'bola']\n",
            "['a', 'b', 'c', 1, 2, 'o', 'menino', 'jogou', 'a', 'bola']\n"
          ]
        }
      ]
    },
    {
      "cell_type": "code",
      "source": [
        "#Exemplo 3: como repetir os elementos de uma lista\n",
        "lista = []\n",
        "lista1 = [\"o\",\"menino\",\"jogou\",\"a\",\"bola\"]\n",
        "lista2 = [1,2,3]\n",
        "\n",
        "lista3 = lista2 * 3\n",
        "lista4 = lista1 * 2\n",
        "lista5 = lista * 4\n",
        "print(lista3)\n",
        "print(lista4)\n",
        "print(lista5)\n"
      ],
      "metadata": {
        "colab": {
          "base_uri": "https://localhost:8080/"
        },
        "id": "Lm15CW9H64Xh",
        "outputId": "f70af6ba-9742-4a5c-e135-2dfa532a98b4"
      },
      "execution_count": null,
      "outputs": [
        {
          "output_type": "stream",
          "name": "stdout",
          "text": [
            "[1, 2, 3, 1, 2, 3, 1, 2, 3]\n",
            "['o', 'menino', 'jogou', 'a', 'bola', 'o', 'menino', 'jogou', 'a', 'bola']\n",
            "[]\n"
          ]
        }
      ]
    },
    {
      "cell_type": "code",
      "source": [
        "#Exemplo 4: como verificar se um elemento está na lista\n",
        "lista = []\n",
        "lista1 = [\"o\",\"menino\",\"jogou\",\"a\",\"bola\"]\n",
        "lista2 = [1,2,3]\n",
        "\n",
        "if \"menino\" in lista1: print(\"achou\")\n",
        "if \"menino\" in lista: print(\"pertence a lista\")\n",
        "else:print(\"não pertence a lista\")\n",
        "valor = int(input(\"Informe um valor:\"))\n",
        "if valor in lista2: print(\"pertence a lista\")\n",
        "else:print(valor, \"não pertence a\", lista2)"
      ],
      "metadata": {
        "colab": {
          "base_uri": "https://localhost:8080/"
        },
        "id": "QlPM3Lqo8Tp2",
        "outputId": "08df1dc0-0905-4b27-b796-89661dea5bc7"
      },
      "execution_count": null,
      "outputs": [
        {
          "output_type": "stream",
          "name": "stdout",
          "text": [
            "achou\n",
            "não pertence a lista\n",
            "Informe um valor:1\n",
            "pertence a lista\n"
          ]
        }
      ]
    },
    {
      "cell_type": "code",
      "source": [
        "#Exemplo 5: acrescentar elementos na lista com append(insere item no final da lista)\n",
        "lista = []\n",
        "lista1 = [\"o\",\"menino\",\"jogou\",\"a\",\"bola\"]\n",
        "\n",
        "lista.append('linguagem')\n",
        "lista.append('python')\n",
        "lista.append(lista1)\n",
        "print(lista)\n"
      ],
      "metadata": {
        "colab": {
          "base_uri": "https://localhost:8080/"
        },
        "id": "zzHPc3Er9v_9",
        "outputId": "58b0fa66-3d4b-4444-be9a-557a6e8b504b"
      },
      "execution_count": null,
      "outputs": [
        {
          "output_type": "stream",
          "name": "stdout",
          "text": [
            "['linguagem', 'python', ['o', 'menino', 'jogou', 'a', 'bola']]\n"
          ]
        }
      ]
    },
    {
      "cell_type": "code",
      "source": [
        "#Exemplo 5: acrescentar elementos na lista (outra forma)\n",
        "lista2 = []\n",
        "lista2.append('linguagem')\n",
        "lista2.append('python')\n",
        "for item in lista1:\n",
        "  lista2.append(item)\n",
        "print(lista2)"
      ],
      "metadata": {
        "colab": {
          "base_uri": "https://localhost:8080/"
        },
        "id": "j26YHQW2_syY",
        "outputId": "f4668785-4c2a-4336-e75d-257fc5f79ebb"
      },
      "execution_count": null,
      "outputs": [
        {
          "output_type": "stream",
          "name": "stdout",
          "text": [
            "['linguagem', 'python', 'o', 'menino', 'jogou', 'a', 'bola']\n"
          ]
        }
      ]
    },
    {
      "cell_type": "code",
      "source": [
        "#Exemplo 6: acrescentar elementos na lista com insert(insere em qualquer posição)\n",
        "lista = []\n",
        "lista1 = [\"o\",\"menino\",\"jogou\",\"a\",\"bola\"]\n",
        "\n",
        "lista.insert(0,'linguagem')\n",
        "lista.insert(0,'python')\n",
        "lista.insert(1, lista1)\n",
        "lista.insert(2, \"logica\")\n",
        "print(lista)"
      ],
      "metadata": {
        "colab": {
          "base_uri": "https://localhost:8080/"
        },
        "id": "xq_fFav5AXrT",
        "outputId": "a45373e8-8ff2-4bdd-d2c2-b398e76fdf25"
      },
      "execution_count": null,
      "outputs": [
        {
          "output_type": "stream",
          "name": "stdout",
          "text": [
            "['python', ['o', 'menino', 'jogou', 'a', 'bola'], 'logica', 'linguagem']\n"
          ]
        }
      ]
    },
    {
      "cell_type": "code",
      "source": [
        "#Exemplo 7: invertendo a lista\n",
        "lista2 = []\n",
        "for item in lista1:\n",
        "  lista2.insert(0,item)\n",
        "print(lista2)"
      ],
      "metadata": {
        "colab": {
          "base_uri": "https://localhost:8080/"
        },
        "id": "kP_m2G2WB2YG",
        "outputId": "3ebdaffa-6660-4f87-d083-862e19ab3c5e"
      },
      "execution_count": null,
      "outputs": [
        {
          "output_type": "stream",
          "name": "stdout",
          "text": [
            "['bola', 'a', 'jogou', 'menino', 'o']\n"
          ]
        }
      ]
    },
    {
      "cell_type": "code",
      "source": [
        "#Exemplo 8: Excluir elementos da lista usando POP\n",
        "lista = []\n",
        "lista1 = [\"o\",\"menino\",\"jogou\",\"a\",\"bola\"]\n",
        "\n",
        "lista1.pop()\n",
        "print(lista1)\n",
        "lista1.pop(1)\n",
        "print(lista1)"
      ],
      "metadata": {
        "colab": {
          "base_uri": "https://localhost:8080/"
        },
        "id": "WalhYqxKCO49",
        "outputId": "2303fabd-8658-4676-fe81-23115a809280"
      },
      "execution_count": null,
      "outputs": [
        {
          "output_type": "stream",
          "name": "stdout",
          "text": [
            "['o', 'menino', 'jogou', 'a']\n",
            "['o', 'jogou', 'a']\n"
          ]
        }
      ]
    },
    {
      "cell_type": "code",
      "source": [
        "#Exemplo 9: Excluir elementos da lista usando REMOVE\n",
        "lista = []\n",
        "lista1 = [\"o\",\"menino\",\"jogou\",\"a\",\"bola\"]\n",
        "\n",
        "lista1.remove(\"a\")\n",
        "print(lista1)\n",
        "lista2 = [\"a\"] * 4\n",
        "print(lista2)\n",
        "lista2.remove(\"a\")\n",
        "print(lista2)"
      ],
      "metadata": {
        "colab": {
          "base_uri": "https://localhost:8080/"
        },
        "id": "H7GTZ_9mDHSY",
        "outputId": "1df57cc5-3523-4120-f921-7427d5bfb444"
      },
      "execution_count": null,
      "outputs": [
        {
          "output_type": "stream",
          "name": "stdout",
          "text": [
            "['o', 'menino', 'jogou', 'bola']\n",
            "['a', 'a', 'a', 'a']\n",
            "['a', 'a', 'a']\n"
          ]
        }
      ]
    },
    {
      "cell_type": "code",
      "source": [
        "#Exercicio\n",
        "import random\n",
        "\n",
        "lista = []\n",
        "for i in range(1,31):\n",
        "  lista.append(random.randint(1,501))\n",
        "print(lista)\n",
        "\n",
        "maior  = lista [0]\n",
        "pares = 0\n",
        "for num in lista:\n",
        "  if num > maior: maior = num\n",
        "  if num % 2 == 0: pares = pares + 1\n",
        "print(\"Maior:\", maior)\n",
        "print(\"Qtd de pares:\", pares)\n"
      ],
      "metadata": {
        "colab": {
          "base_uri": "https://localhost:8080/"
        },
        "id": "JntRQMKz5Jk2",
        "outputId": "8928171c-f30e-40dd-eee8-8e08b94170c0"
      },
      "execution_count": 4,
      "outputs": [
        {
          "output_type": "stream",
          "name": "stdout",
          "text": [
            "[263, 186, 399, 212, 34, 479, 48, 178, 391, 223, 333, 457, 446, 488, 322, 306, 78, 235, 389, 87, 286, 201, 482, 350, 420, 239, 242, 127, 482, 486]\n",
            "Maior: 488\n",
            "Qtd de pares: 17\n"
          ]
        }
      ]
    }
  ]
}