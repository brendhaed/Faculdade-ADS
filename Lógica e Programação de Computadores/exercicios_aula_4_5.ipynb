{
  "nbformat": 4,
  "nbformat_minor": 0,
  "metadata": {
    "colab": {
      "provenance": [],
      "authorship_tag": "ABX9TyMPjxfHD4Vx/+goz6vGfc42",
      "include_colab_link": true
    },
    "kernelspec": {
      "name": "python3",
      "display_name": "Python 3"
    },
    "language_info": {
      "name": "python"
    }
  },
  "cells": [
    {
      "cell_type": "markdown",
      "metadata": {
        "id": "view-in-github",
        "colab_type": "text"
      },
      "source": [
        "<a href=\"https://colab.research.google.com/github/brendhaed/Faculdade-ADS/blob/main/L%C3%B3gica%20e%20Programa%C3%A7%C3%A3o%20de%20Computadores/exercicios_aula_4_5.ipynb\" target=\"_parent\"><img src=\"https://colab.research.google.com/assets/colab-badge.svg\" alt=\"Open In Colab\"/></a>"
      ]
    },
    {
      "cell_type": "code",
      "execution_count": null,
      "metadata": {
        "id": "bHq1u1MOlQHZ",
        "colab": {
          "base_uri": "https://localhost:8080/"
        },
        "outputId": "7952eb2e-a602-41cb-e7fb-7e59ae753c29"
      },
      "outputs": [
        {
          "output_type": "stream",
          "name": "stdout",
          "text": [
            "Digite o ano:2024\n",
            "O ano é bissexto\n"
          ]
        }
      ],
      "source": [
        "#Exercício 1: determinar se o ano é bissexto ou não\n",
        "ano = int(input(\"Digite o ano:\"))\n",
        "if (ano % 4 == 0 and ano % 100 !=0) or (ano % 400 == 0):\n",
        "  print(\"O ano é bissexto\")\n",
        "else:\n",
        "  print(\"O ano não é bissexto\")"
      ]
    },
    {
      "cell_type": "code",
      "source": [
        "#Exercício 2:determinar o total de dias em um mês\n",
        "mes = int(input(\"Digite o mês:\"))\n",
        "ano = int(input(\"Digite o ano:\"))\n",
        "if mes == 2:\n",
        "  if (ano % 4 == 0 and ano % 100 != 0) or (ano % 400 == 0):\n",
        "    dias = 29  # Indentação corrigida aqui\n",
        "  else:\n",
        "    dias = 28\n",
        "elif mes == 4 or mes == 6 or mes == 9 or mes == 11:\n",
        "  dias = 30\n",
        "else:\n",
        "  dias = 31\n",
        "print(f\"Total de dias {dias}\")\n",
        "\n"
      ],
      "metadata": {
        "colab": {
          "base_uri": "https://localhost:8080/"
        },
        "id": "8HZe4MfkgydP",
        "outputId": "94fac554-4681-4873-9ad4-abdfd5ad88ca"
      },
      "execution_count": null,
      "outputs": [
        {
          "output_type": "stream",
          "name": "stdout",
          "text": [
            "Digite o mês:2\n",
            "Digite o ano:2024\n",
            "Total de dias 29\n"
          ]
        }
      ]
    },
    {
      "cell_type": "code",
      "source": [
        "#Exercício 3: cálculo do salario liquido\n",
        "sal_bruto = float(input(\"Digite o salário bruto:\"))\n",
        "dep = int(input(\"Total dependentes: \"))\n",
        "\n",
        "if sal_bruto < 1212.01:\n",
        "  alinss = 0.075\n",
        "  parcinss = 0\n",
        "elif sal_bruto <= 2427.35:\n",
        "  alinss = 0.09\n",
        "  parcinss = 18.18\n",
        "elif sal_bruto <= 3641.03:\n",
        "  alinss = 0.12\n",
        "  parcinss = 91\n",
        "else:\n",
        "  alinss = 0.14\n",
        "  parcinss = 163.82\n",
        "\n",
        "inss = sal_bruto * alinss - parcinss\n",
        "\n",
        "if inss > 828.39:\n",
        "  inss  = 828.39\n",
        "\n",
        "print(\"INSS\",inss)\n",
        "\n",
        "base = sal_bruto - inss - 189.59 * dep\n",
        "print(\"Base para cálculo IRRF:\", base)\n",
        "\n",
        "#a aliquota do imposto e a parcela a deduzir\n",
        "if base <=1903.98:\n",
        "  aliqirrf = 0\n",
        "  parcirrf =0\n",
        "elif base <= 2826.65:\n",
        "  aliqirrf = 0.075\n",
        "  parcirrf = 142.8\n",
        "elif base <= 3751.05:\n",
        "    aliqirrf = 0.15\n",
        "    parcirrf = 354.8\n",
        "elif base <=4664.68:\n",
        "    aliqirrf = 0.225\n",
        "    parcirrf = 636.13\n",
        "else:\n",
        "    aliqirrf = 0.275\n",
        "    parcirrf = 869.36\n",
        "\n",
        "#parcela a deduzir\n",
        "irrf = base * aliqirrf - parcirrf\n",
        "\n",
        "liquido = sal_bruto - inss - irrf\n",
        "print(\"Sálario liquido:\", liquido)\n",
        "\n"
      ],
      "metadata": {
        "colab": {
          "base_uri": "https://localhost:8080/"
        },
        "id": "px8ScVxcmNpE",
        "outputId": "991847b4-94ea-48ce-be87-47b4b07c73b4"
      },
      "execution_count": null,
      "outputs": [
        {
          "output_type": "stream",
          "name": "stdout",
          "text": [
            "Digite o salário bruto:2000\n",
            "Total dependentes: 2\n",
            "INSS 161.82\n",
            "Base para cálculo IRRF: 1459.0\n",
            "Sálario liquido: 1838.18\n"
          ]
        }
      ]
    }
  ]
}