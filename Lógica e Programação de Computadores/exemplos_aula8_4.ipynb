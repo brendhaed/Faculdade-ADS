{
  "nbformat": 4,
  "nbformat_minor": 0,
  "metadata": {
    "colab": {
      "provenance": [],
      "authorship_tag": "ABX9TyMx6PqoTRQwtE3RCnai8ocy",
      "include_colab_link": true
    },
    "kernelspec": {
      "name": "python3",
      "display_name": "Python 3"
    },
    "language_info": {
      "name": "python"
    }
  },
  "cells": [
    {
      "cell_type": "markdown",
      "metadata": {
        "id": "view-in-github",
        "colab_type": "text"
      },
      "source": [
        "<a href=\"https://colab.research.google.com/github/brendhaed/Faculdade-ADS/blob/main/L%C3%B3gica%20e%20Programa%C3%A7%C3%A3o%20de%20Computadores/exemplos_aula8_4.ipynb\" target=\"_parent\"><img src=\"https://colab.research.google.com/assets/colab-badge.svg\" alt=\"Open In Colab\"/></a>"
      ]
    },
    {
      "cell_type": "code",
      "execution_count": null,
      "metadata": {
        "id": "in6WiQsX13UE"
      },
      "outputs": [],
      "source": [
        "#Exemplo 1: Abrir arquivo para ler\n",
        "arq = open(\"planta_iris.data\", \"r\")\n",
        "for linha in arq:\n",
        "  valores = linha.split(\",\")\n",
        "  print(valores)\n",
        "arq.close() #deve fechar o arquivo depois de abrir\n"
      ]
    },
    {
      "cell_type": "code",
      "source": [
        "#Exemplo 2: Abrir para gravar\n",
        "ref_arquivo = open(\"dados.txt\",\"w\")\n",
        "cont = 1\n",
        "while cont <= 3:\n",
        "  nome = input(\"Digite seu nome: \")\n",
        "  ref_arquivo.write(nome + \"\\n\")\n",
        "  cont = cont + 1\n",
        "ref_arquivo.close()"
      ],
      "metadata": {
        "id": "5VnUg4bK6K3M"
      },
      "execution_count": null,
      "outputs": []
    },
    {
      "cell_type": "code",
      "source": [
        "#Exemplo 3: Abrir para gravar ao final\n",
        "ref_arquivo = open(\"dados.txt\",\"a\")\n",
        "cont = 1\n",
        "while cont <= 3:\n",
        "  nome = input(\"Digite seu nome: \")\n",
        "  ref_arquivo.write(nome + \"\\n\")\n",
        "  cont = cont + 1\n",
        "ref_arquivo.close()"
      ],
      "metadata": {
        "id": "2pJesDw97uPy"
      },
      "execution_count": null,
      "outputs": []
    },
    {
      "cell_type": "code",
      "source": [
        "#Exemplo 4:\n",
        "arq = open(\"planta_iris.data\", \"r\")\n",
        "dados = []\n",
        "for linha in arq:\n",
        "  valores = linha.split(\",\")\n",
        "  print(valores)\n",
        "  ultima = valores[4][:-1]\n",
        "  tupla = (float(valores[0]),float(valores[1]), float(valores[2]), float(valores[3], ultima))\n",
        "  print(tupla)\n",
        "  dados.append(tupla)\n",
        "arq.close()\n",
        "print(dados)"
      ],
      "metadata": {
        "id": "gigzPDVY8n8F"
      },
      "execution_count": null,
      "outputs": []
    },
    {
      "cell_type": "code",
      "source": [
        "#Exemplo de exercicio:\n",
        "arquivo = open(\"alturas.txt\",\"w\")\n",
        "cont = 1\n",
        "while cont <= 5:\n",
        "  nome = input(\"Digite seu nome: \")\n",
        "  altura = float(input(\"Digite sua altura: \"))\n",
        "  arquivo.write(nome + \"-\" + str(altura) + \"\\n\")\n",
        "  cont = cont + 1\n",
        "arquivo.close()\n",
        "\n",
        "lista = []\n",
        "soma = 0\n",
        "alturaAlto = -1\n",
        "nomeAlto = \"\"\n",
        "arquivo = open(\"alturas.txt\",\"r\")\n",
        "for linha in arquivo:\n",
        "  saida = linha[: -1].split('-')\n",
        "  altura = float(saida[1])\n",
        "  nome = saida[0]\n",
        "  dados = (nome, altura)\n",
        "  soma = soma + altura\n",
        "\n",
        "  if altura > alturaAlto:\n",
        "    alturaAlto = altura\n",
        "    nomeAlto = nome\n",
        "  lista.append(dados)\n",
        "arquivo.close()\n",
        "print(lista)\n",
        "print(\"Média:\", soma/len(lista))\n",
        "print(\"Nome do mais alto:\", nomeAlto)"
      ],
      "metadata": {
        "colab": {
          "base_uri": "https://localhost:8080/"
        },
        "id": "vtmpWN7k_EQN",
        "outputId": "d7996a56-7454-4cc7-d58c-3a5ef0cf3182"
      },
      "execution_count": 1,
      "outputs": [
        {
          "output_type": "stream",
          "name": "stdout",
          "text": [
            "Digite seu nome: brendha\n",
            "Digite sua altura: 1.55\n",
            "Digite seu nome: maria\n",
            "Digite sua altura: 1.68\n",
            "Digite seu nome: julia\n",
            "Digite sua altura: 1.61\n",
            "Digite seu nome: ana\n",
            "Digite sua altura: 1.50\n",
            "Digite seu nome: joão\n",
            "Digite sua altura: 1.78\n",
            "[('brendha', 1.55), ('maria', 1.68), ('julia', 1.61), ('ana', 1.5), ('joão', 1.78)]\n",
            "Média: 1.6239999999999999\n",
            "Nome do mais alto: joão\n"
          ]
        }
      ]
    }
  ]
}