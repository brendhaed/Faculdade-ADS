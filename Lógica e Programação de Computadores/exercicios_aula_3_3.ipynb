{
  "nbformat": 4,
  "nbformat_minor": 0,
  "metadata": {
    "colab": {
      "provenance": [],
      "authorship_tag": "ABX9TyP/vUYUShPDLcwWxJ5Xt0hd",
      "include_colab_link": true
    },
    "kernelspec": {
      "name": "python3",
      "display_name": "Python 3"
    },
    "language_info": {
      "name": "python"
    }
  },
  "cells": [
    {
      "cell_type": "markdown",
      "metadata": {
        "id": "view-in-github",
        "colab_type": "text"
      },
      "source": [
        "<a href=\"https://colab.research.google.com/github/brendhaed/Faculdade-ADS/blob/main/L%C3%B3gica%20e%20Programa%C3%A7%C3%A3o%20de%20Computadores/exercicios_aula_3_3.ipynb\" target=\"_parent\"><img src=\"https://colab.research.google.com/assets/colab-badge.svg\" alt=\"Open In Colab\"/></a>"
      ]
    },
    {
      "cell_type": "code",
      "execution_count": null,
      "metadata": {
        "colab": {
          "base_uri": "https://localhost:8080/"
        },
        "id": "I3HfWIery46R",
        "outputId": "6c864d21-366b-4366-f3e6-2935c7a7cc72"
      },
      "outputs": [
        {
          "output_type": "stream",
          "name": "stdout",
          "text": [
            "Informe o horário de inicio\n",
            "Hora:7\n",
            "Minutos:30\n",
            "Informe o horário do termino\n",
            "Hora:10\n",
            "Minutos:55\n",
            "Horas: 3\n",
            "Minutos: 25\n"
          ]
        }
      ],
      "source": [
        "print(\"Informe o horário de inicio\")\n",
        "hora_inicio = int(input(\"Hora:\"))\n",
        "minuto_inicio = int(input(\"Minutos:\"))\n",
        "\n",
        "print(\"Informe o horário do termino\")\n",
        "hora_termino = int(input(\"Hora:\"))\n",
        "minuto_termino = int(input(\"Minutos:\"))\n",
        "\n",
        "horario_inicial = hora_inicio * 60 + minuto_inicio\n",
        "horario_final = hora_termino * 60 + minuto_termino\n",
        "\n",
        "if horario_inicial < horario_final: duracao = horario_final - horario_inicial\n",
        "else: duracao = 24*60 - horario_inicial + horario_final\n",
        "\n",
        "print(\"Horas:\", duracao //60)\n",
        "print(\"Minutos:\", duracao%60)\n"
      ]
    },
    {
      "cell_type": "code",
      "source": [
        "print(\"Informe um valor inteiro de 4 digitos:\")\n",
        "numero = int(input())\n",
        "\n",
        "if numero <1111 or numero >9999: print(\"Valor fora do intervalo!\")\n",
        "\n",
        "milhar = numero//1000\n",
        "resto = numero%1000\n",
        "centena = resto//100\n",
        "resto = resto%100\n",
        "dezena = resto//10\n",
        "unidade = resto%10\n",
        "\n",
        "invertido = unidade*1000 + dezena*100 + centena*10 + milhar\n",
        "print(\"Valor ao contrario:\", invertido)\n",
        "if numero == invertido: print(\"O numero é capicua\")\n",
        "else: print(\"O numero não é capicua\")\n"
      ],
      "metadata": {
        "colab": {
          "base_uri": "https://localhost:8080/"
        },
        "id": "2axdJ-wn5D_o",
        "outputId": "991f4403-3ca1-4247-e77e-a47f5030b741"
      },
      "execution_count": null,
      "outputs": [
        {
          "output_type": "stream",
          "name": "stdout",
          "text": [
            "Informe um valor inteiro de 4 digitos:\n",
            "6776\n",
            "Valor ao contrario: 6776\n",
            "O numero é capicua\n"
          ]
        }
      ]
    }
  ]
}