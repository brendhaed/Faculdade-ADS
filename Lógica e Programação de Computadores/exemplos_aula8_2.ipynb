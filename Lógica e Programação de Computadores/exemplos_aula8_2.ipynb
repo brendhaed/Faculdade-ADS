{
  "nbformat": 4,
  "nbformat_minor": 0,
  "metadata": {
    "colab": {
      "provenance": [],
      "authorship_tag": "ABX9TyMB4E8I7M4REYgXjxFVDoe8",
      "include_colab_link": true
    },
    "kernelspec": {
      "name": "python3",
      "display_name": "Python 3"
    },
    "language_info": {
      "name": "python"
    }
  },
  "cells": [
    {
      "cell_type": "markdown",
      "metadata": {
        "id": "view-in-github",
        "colab_type": "text"
      },
      "source": [
        "<a href=\"https://colab.research.google.com/github/brendhaed/Faculdade-ADS/blob/main/L%C3%B3gica%20e%20Programa%C3%A7%C3%A3o%20de%20Computadores/exemplos_aula8_2.ipynb\" target=\"_parent\"><img src=\"https://colab.research.google.com/assets/colab-badge.svg\" alt=\"Open In Colab\"/></a>"
      ]
    },
    {
      "cell_type": "code",
      "execution_count": 1,
      "metadata": {
        "colab": {
          "base_uri": "https://localhost:8080/"
        },
        "id": "dyS2WzOd_y-p",
        "outputId": "d5d68d0e-1f24-4af9-8ca6-929b8fe069bf"
      },
      "outputs": [
        {
          "output_type": "stream",
          "name": "stdout",
          "text": [
            "3\n"
          ]
        }
      ],
      "source": [
        "#Exemplo 1:contar ocorrências de um mesmo símbolo na lista\n",
        "lista = ['a','b','a','b','c','d','a']\n",
        "print(lista.count('a'))"
      ]
    },
    {
      "cell_type": "code",
      "source": [
        "#Exemplo 2: somar elementos de uma lista\n",
        "lista = [1,10,9,15,5,2,8]\n",
        "print(sum(lista))"
      ],
      "metadata": {
        "colab": {
          "base_uri": "https://localhost:8080/"
        },
        "id": "7mlvVGjhKax6",
        "outputId": "83d9ef40-e30d-4543-c4ed-5a3c44a7b711"
      },
      "execution_count": 2,
      "outputs": [
        {
          "output_type": "stream",
          "name": "stdout",
          "text": [
            "50\n"
          ]
        }
      ]
    },
    {
      "cell_type": "code",
      "source": [
        "#Exemplo 3: encontrar o menor e o maior valor da lista\n",
        "lista = [1,10,9,15,5,2,8]\n",
        "print(min(lista))\n",
        "print(max(lista))"
      ],
      "metadata": {
        "colab": {
          "base_uri": "https://localhost:8080/"
        },
        "id": "HngddHoPLID4",
        "outputId": "a4fa8f3b-82bf-46f6-fee7-d43e759d649d"
      },
      "execution_count": 3,
      "outputs": [
        {
          "output_type": "stream",
          "name": "stdout",
          "text": [
            "1\n",
            "15\n"
          ]
        }
      ]
    },
    {
      "cell_type": "code",
      "source": [
        "#Exemplo 4: ordenar uma lista\n",
        "lista = [1,2,5,0,4,1,2,6,9,2]\n",
        "lista2 = ['c','a','b','d','h','z']\n",
        "\n",
        "lista.sort()\n",
        "print(\"Ordem crescente\",lista)\n",
        "lista.reverse()\n",
        "print(\"Ordem decrescente\",lista)\n",
        "\n",
        "lista2.sort()\n",
        "print(\"Ordem crescente\",lista2)\n",
        "lista2.reverse()\n",
        "print(\"Ordem decrescente\",lista2)"
      ],
      "metadata": {
        "colab": {
          "base_uri": "https://localhost:8080/"
        },
        "id": "4N3L9DAuLuFc",
        "outputId": "2edad453-ebb8-401b-f010-94772b48f115"
      },
      "execution_count": 5,
      "outputs": [
        {
          "output_type": "stream",
          "name": "stdout",
          "text": [
            "Ordem crescente [0, 1, 1, 2, 2, 2, 4, 5, 6, 9]\n",
            "Ordem decrescente [9, 6, 5, 4, 2, 2, 2, 1, 1, 0]\n",
            "Ordem crescente ['a', 'b', 'c', 'd', 'h', 'z']\n",
            "Ordem decrescente ['z', 'h', 'd', 'c', 'b', 'a']\n"
          ]
        }
      ]
    },
    {
      "cell_type": "code",
      "source": [
        "#Exercicio exemplo:\n",
        "import random\n",
        "\n",
        "lista = []\n",
        "for i in range(1,16):\n",
        "  lista.append(random.randint(1,100)/10)\n",
        "print(\"Notas:\",lista)\n",
        "media = sum(lista)//len(lista)\n",
        "print(\"Média:\",media)\n",
        "acima = 0\n",
        "abaixo = 0\n",
        "for nota in lista:\n",
        "  if nota>media: acima = acima + 1\n",
        "  if nota<media: abaixo = abaixo + 1\n",
        "\n",
        "print(\"Quantidades de notas acima da média:\", acima)\n",
        "print(\"Quantidades de notas abaixo da média:\", abaixo)\n",
        "print(\"Quabtidade de notas iguais a média:\",lista.count(media))\n",
        "print(\"Maior nota:\" , max(lista))\n",
        "print(\"Menor nota:\", min(lista))\n"
      ],
      "metadata": {
        "colab": {
          "base_uri": "https://localhost:8080/"
        },
        "id": "TMrWe3XbNeM2",
        "outputId": "c12af48b-3fa5-4563-f9bc-c3e79a3f7257"
      },
      "execution_count": 8,
      "outputs": [
        {
          "output_type": "stream",
          "name": "stdout",
          "text": [
            "Notas: [4.4, 5.5, 1.6, 3.9, 0.3, 9.0, 8.3, 6.4, 10.0, 1.4, 5.4, 3.1, 2.3, 3.4, 3.1]\n",
            "Média: 4.0\n",
            "Quantidades de notas acima da média: 7\n",
            "Quantidades de notas abaixo da média: 8\n",
            "Quabtidade de notas iguais a média: 0\n",
            "Maior nota: 10.0\n",
            "Menor nota: 0.3\n"
          ]
        }
      ]
    }
  ]
}