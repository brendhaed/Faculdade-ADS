{
  "nbformat": 4,
  "nbformat_minor": 0,
  "metadata": {
    "colab": {
      "provenance": [],
      "authorship_tag": "ABX9TyPS8dU6CuL4FYflewPX2rmq",
      "include_colab_link": true
    },
    "kernelspec": {
      "name": "python3",
      "display_name": "Python 3"
    },
    "language_info": {
      "name": "python"
    }
  },
  "cells": [
    {
      "cell_type": "markdown",
      "metadata": {
        "id": "view-in-github",
        "colab_type": "text"
      },
      "source": [
        "<a href=\"https://colab.research.google.com/github/brendhaed/Faculdade-ADS/blob/main/L%C3%B3gica%20e%20Programa%C3%A7%C3%A3o%20de%20Computadores/exemplos_aula8_5.ipynb\" target=\"_parent\"><img src=\"https://colab.research.google.com/assets/colab-badge.svg\" alt=\"Open In Colab\"/></a>"
      ]
    },
    {
      "cell_type": "code",
      "execution_count": 1,
      "metadata": {
        "colab": {
          "base_uri": "https://localhost:8080/"
        },
        "id": "tVbKIL2kyPN4",
        "outputId": "7b095590-08e0-40a7-b6f8-4d046ff3306a"
      },
      "outputs": [
        {
          "output_type": "stream",
          "name": "stdout",
          "text": [
            "[1, 4, 9, 16, 25]\n",
            "[4, 16]\n"
          ]
        }
      ],
      "source": [
        "#Exemplo 1:\n",
        "lista = [1, 2, 3, 4, 5]\n",
        "quadrados = [item ** 2 for item in lista] #eleva ao quadrado a lista\n",
        "print(quadrados)\n",
        "quadrados2 = [item ** 2 for item in lista if item % 2 == 0] #eleva somente os pares\n",
        "print(quadrados2)\n"
      ]
    },
    {
      "cell_type": "code",
      "source": [
        "#Exemplo 2:escrevendo a matriz\n",
        "matriz = [[1, 2, 4], [2, 3, 5], [3, 4, 5]]\n",
        "for linha in matriz:\n",
        "  print(linha)\n",
        "  for coluna in linha:\n",
        "        print(coluna)"
      ],
      "metadata": {
        "colab": {
          "base_uri": "https://localhost:8080/"
        },
        "id": "wW1DKntM0a-5",
        "outputId": "ba127441-dfce-4046-8208-85ada623de20"
      },
      "execution_count": 22,
      "outputs": [
        {
          "output_type": "stream",
          "name": "stdout",
          "text": [
            "[1, 2, 4]\n",
            "1\n",
            "2\n",
            "4\n",
            "[2, 3, 5]\n",
            "2\n",
            "3\n",
            "5\n",
            "[3, 4, 5]\n",
            "3\n",
            "4\n",
            "5\n"
          ]
        }
      ]
    },
    {
      "cell_type": "code",
      "source": [
        "#Exemplo 3: somando elementos\n",
        "matriz = [[1, 2, 4], [2, 3, 5], [3, 4, 5]]\n",
        "soma = 0\n",
        "for linha in matriz:\n",
        "    for elem in linha:\n",
        "      soma = soma + elem\n",
        "print(\"Soma dos elementos da matriz:\", soma)\n",
        ""
      ],
      "metadata": {
        "colab": {
          "base_uri": "https://localhost:8080/"
        },
        "id": "-fflvY6n_6kF",
        "outputId": "c8d53517-2fd4-43fe-907d-bfbf70e192bd"
      },
      "execution_count": 4,
      "outputs": [
        {
          "output_type": "stream",
          "name": "stdout",
          "text": [
            "Soma dos elementos da matriz: 29\n"
          ]
        }
      ]
    },
    {
      "cell_type": "code",
      "source": [
        "#Exemplo 4: somando uma linha\n",
        "matriz = [[1, 2, 4], [2, 3, 5], [3, 4, 5]]\n",
        "soma = 0\n",
        "for elem in range(0,3):\n",
        "  print(matriz[0][elem])\n",
        "  soma = soma + matriz[0][elem]\n",
        "print(\"Soma da linha 0: \", soma)"
      ],
      "metadata": {
        "colab": {
          "base_uri": "https://localhost:8080/"
        },
        "id": "ZKBvLsJ3BAOG",
        "outputId": "11a09132-1fd3-4e9f-8962-acb04ee28899"
      },
      "execution_count": 8,
      "outputs": [
        {
          "output_type": "stream",
          "name": "stdout",
          "text": [
            "1\n",
            "2\n",
            "4\n",
            "Soma da linha 0:  7\n"
          ]
        }
      ]
    },
    {
      "cell_type": "code",
      "source": [
        "#Exemplo 5: somando uma coluna\n",
        "matriz = [[1, 2, 4], [2, 3, 5], [3, 4, 5]]\n",
        "soma = 0\n",
        "for elem in range(0,3):\n",
        "  print(matriz[elem][2])\n",
        "  soma = soma + matriz[elem][2]\n",
        "print(\"Soma da coluna 2: \", soma)"
      ],
      "metadata": {
        "colab": {
          "base_uri": "https://localhost:8080/"
        },
        "id": "TbiyZjpKCvkL",
        "outputId": "d4ff5e71-9d0a-45a3-c68f-b8752715c96b"
      },
      "execution_count": 9,
      "outputs": [
        {
          "output_type": "stream",
          "name": "stdout",
          "text": [
            "4\n",
            "5\n",
            "5\n",
            "Soma da coluna 2:  14\n"
          ]
        }
      ]
    },
    {
      "cell_type": "code",
      "source": [
        "#Exemplo 6: somando a diagonal principal\n",
        "matriz = [[1, 2, 4], [2, 3, 5], [3, 4, 5]]\n",
        "soma = 0\n",
        "for elem in range(0,3):\n",
        "  print(matriz[elem][elem])\n",
        "  soma = soma + matriz[elem][elem]\n",
        "print(\"Soma da diagonal principal: \", soma)"
      ],
      "metadata": {
        "colab": {
          "base_uri": "https://localhost:8080/"
        },
        "id": "wf2LAKsODTZ4",
        "outputId": "27f7ab54-875e-446f-b0b7-0a4723558449"
      },
      "execution_count": 10,
      "outputs": [
        {
          "output_type": "stream",
          "name": "stdout",
          "text": [
            "1\n",
            "3\n",
            "5\n",
            "Soma da diagonal principal:  9\n"
          ]
        }
      ]
    },
    {
      "cell_type": "code",
      "source": [
        "#Exemplo 7: somando a diagonal secundária\n",
        "matriz = [[1, 2, 4], [2, 3, 5], [3, 4, 5]]\n",
        "soma = 0\n",
        "coluna = 2\n",
        "for linha in range(0,3):\n",
        "  print(matriz[linha][coluna])\n",
        "  soma = soma + matriz[linha][coluna]\n",
        "  coluna = coluna - 1\n",
        "print(\"Soma da diagonal secundária: \", soma)"
      ],
      "metadata": {
        "colab": {
          "base_uri": "https://localhost:8080/"
        },
        "id": "oVquRj04ENxc",
        "outputId": "8e134c56-94f8-4dab-8010-814a3c6a083c"
      },
      "execution_count": 12,
      "outputs": [
        {
          "output_type": "stream",
          "name": "stdout",
          "text": [
            "4\n",
            "3\n",
            "3\n",
            "Soma da diagonal secundária:  10\n"
          ]
        }
      ]
    },
    {
      "cell_type": "code",
      "source": [
        "#Exemplo 8: trocando linhas\n",
        "matriz = [[1, 2, 4], [2, 3, 5], [3, 4, 5]]\n",
        "print(\"Matriz original: \")\n",
        "for linha in matriz:\n",
        "  print(linha)\n",
        "\n",
        "aux = matriz[0]\n",
        "matriz[0] = matriz[2]\n",
        "matriz[2] = aux\n",
        "print(\"Matriz após a troca da linha 0 com a linha 2 \")\n",
        "for linha in matriz:\n",
        "  print(linha)"
      ],
      "metadata": {
        "colab": {
          "base_uri": "https://localhost:8080/"
        },
        "id": "BHi5AwUWFQ6h",
        "outputId": "99b92d06-6429-4f84-935b-455be3f0f8fc"
      },
      "execution_count": 13,
      "outputs": [
        {
          "output_type": "stream",
          "name": "stdout",
          "text": [
            "Matriz original: \n",
            "[1, 2, 4]\n",
            "[2, 3, 5]\n",
            "[3, 4, 5]\n",
            "Matriz após a troca da linha 0 com a linha 2 \n",
            "[3, 4, 5]\n",
            "[2, 3, 5]\n",
            "[1, 2, 4]\n"
          ]
        }
      ]
    },
    {
      "cell_type": "code",
      "source": [
        "#Exemplo 9:trocando colunas\n",
        "matriz = [[1, 2, 4], [2, 3, 5], [3, 4, 5]]\n",
        "print(\"Matriz original: \")\n",
        "for linha in matriz:\n",
        "  print(linha)\n",
        "for e in range(0,3):\n",
        "  aux = matriz[e][0]\n",
        "  matriz[e][0] = matriz[e][1]\n",
        "  matriz[e][1] = aux\n",
        "print(\"Matriz após a troca da coluna 0 com a coluna 1 \")\n",
        "for linha in matriz:\n",
        "  print(linha)\n"
      ],
      "metadata": {
        "colab": {
          "base_uri": "https://localhost:8080/"
        },
        "id": "Tcr0HqrcGJ5t",
        "outputId": "875a0594-e7c1-424f-963b-1dce95176f48"
      },
      "execution_count": 14,
      "outputs": [
        {
          "output_type": "stream",
          "name": "stdout",
          "text": [
            "Matriz original: \n",
            "[1, 2, 4]\n",
            "[2, 3, 5]\n",
            "[3, 4, 5]\n",
            "Matriz após a troca da coluna 0 com a coluna 1 \n",
            "[2, 1, 4]\n",
            "[3, 2, 5]\n",
            "[4, 3, 5]\n"
          ]
        }
      ]
    },
    {
      "cell_type": "code",
      "source": [
        "#Exemplo 10: totalizando cada linha\n",
        "matriz = [[1, 2, 4], [2, 3, 5], [3, 4, 5]]\n",
        "print(\"Matriz original: \")\n",
        "somaLinha = []\n",
        "for linha in matriz:\n",
        "  print(linha)\n",
        "  soma = 0\n",
        "  for elem in linha:\n",
        "    soma = soma + elem\n",
        "  somaLinha.append(soma)\n",
        "print(\"Total por linha \", somaLinha)"
      ],
      "metadata": {
        "colab": {
          "base_uri": "https://localhost:8080/"
        },
        "id": "vNS_oZ7zHFb2",
        "outputId": "e36cfdc0-43ff-4a3b-c3bf-9a44617c48bc"
      },
      "execution_count": 15,
      "outputs": [
        {
          "output_type": "stream",
          "name": "stdout",
          "text": [
            "Matriz original: \n",
            "[1, 2, 4]\n",
            "[2, 3, 5]\n",
            "[3, 4, 5]\n",
            "Total por linha  [7, 10, 12]\n"
          ]
        }
      ]
    },
    {
      "cell_type": "code",
      "source": [
        "#Exemplo 11: totalizando cada coluna\n",
        "matriz = [[1, 2, 4], [2, 3, 5], [3, 4, 5]]\n",
        "print(\"Matriz original: \")\n",
        "for linha in matriz:\n",
        "  print(linha)\n",
        "somaColuna = []\n",
        "for col in range(0,3):\n",
        "  soma = 0\n",
        "  for linha in range(0,3):\n",
        "    soma = soma + matriz[linha][col]\n",
        "  somaColuna.append(soma)\n",
        "  print(\"Total por coluna: \", somaColuna)"
      ],
      "metadata": {
        "colab": {
          "base_uri": "https://localhost:8080/"
        },
        "id": "Vf9tlVl4H5XK",
        "outputId": "692d58f0-00c1-475b-f96b-a88667dc0878"
      },
      "execution_count": 18,
      "outputs": [
        {
          "output_type": "stream",
          "name": "stdout",
          "text": [
            "Matriz original: \n",
            "[1, 2, 4]\n",
            "[2, 3, 5]\n",
            "[3, 4, 5]\n",
            "Total por coluna:  [6]\n",
            "Total por coluna:  [6, 9]\n",
            "Total por coluna:  [6, 9, 14]\n"
          ]
        }
      ]
    },
    {
      "cell_type": "code",
      "source": [
        "#Exemplo 12: gerando uma matriz randômica\n",
        "import random\n",
        "#Matriz 3x3\n",
        "matriz = []\n",
        "for linha in range(0,3):\n",
        "  linha = []\n",
        "  for coluna in range(0,3):\n",
        "    linha.append(random.randint(0,10))\n",
        "  matriz.append(linha)\n",
        "print(matriz)"
      ],
      "metadata": {
        "colab": {
          "base_uri": "https://localhost:8080/"
        },
        "id": "mGhbOwxwJQFY",
        "outputId": "31447b3d-52b4-4d09-863f-b4f841f0fef3"
      },
      "execution_count": 19,
      "outputs": [
        {
          "output_type": "stream",
          "name": "stdout",
          "text": [
            "[[7, 9, 1], [9, 1, 10], [1, 10, 7]]\n"
          ]
        }
      ]
    },
    {
      "cell_type": "code",
      "source": [
        "#Exercicio:\n",
        "frases = [\"eu estudo ads na pucrs\",\n",
        "          \"um banco de dados é uma coleção organizada de informações\",\n",
        "          \"SQL é uma linguagem de programação usada em bancos de dados relacionais\"]\n",
        "for sentenca in frases:\n",
        "  print(sentenca)\n",
        "\n",
        "#Tokenização\n",
        "tokens = []\n",
        "for sentenca in frases:\n",
        "  tokens.append(sentenca.split())\n",
        "\n",
        "for sentenca in tokens:\n",
        "  print(\"Palavras da sentença: \", sentenca)\n",
        "  for palavra in sentenca:\n",
        "    print(palavra)"
      ],
      "metadata": {
        "colab": {
          "base_uri": "https://localhost:8080/"
        },
        "id": "wO23k4UhKI24",
        "outputId": "bd2a357b-4334-4de0-8fc5-43e168e8cd76"
      },
      "execution_count": 20,
      "outputs": [
        {
          "output_type": "stream",
          "name": "stdout",
          "text": [
            "eu estudo ads na pucrs\n",
            "um banco de dados é uma coleção organizada de informações\n",
            "SQL é uma linguagem de programação usada em bancos de dados relacionais\n",
            "Palavras da sentença:  ['eu', 'estudo', 'ads', 'na', 'pucrs']\n",
            "eu\n",
            "estudo\n",
            "ads\n",
            "na\n",
            "pucrs\n",
            "Palavras da sentença:  ['um', 'banco', 'de', 'dados', 'é', 'uma', 'coleção', 'organizada', 'de', 'informações']\n",
            "um\n",
            "banco\n",
            "de\n",
            "dados\n",
            "é\n",
            "uma\n",
            "coleção\n",
            "organizada\n",
            "de\n",
            "informações\n",
            "Palavras da sentença:  ['SQL', 'é', 'uma', 'linguagem', 'de', 'programação', 'usada', 'em', 'bancos', 'de', 'dados', 'relacionais']\n",
            "SQL\n",
            "é\n",
            "uma\n",
            "linguagem\n",
            "de\n",
            "programação\n",
            "usada\n",
            "em\n",
            "bancos\n",
            "de\n",
            "dados\n",
            "relacionais\n"
          ]
        }
      ]
    }
  ]
}