{
  "nbformat": 4,
  "nbformat_minor": 0,
  "metadata": {
    "colab": {
      "provenance": [],
      "authorship_tag": "ABX9TyOF49/hdfuNWeM8GfcZnykk",
      "include_colab_link": true
    },
    "kernelspec": {
      "name": "python3",
      "display_name": "Python 3"
    },
    "language_info": {
      "name": "python"
    }
  },
  "cells": [
    {
      "cell_type": "markdown",
      "metadata": {
        "id": "view-in-github",
        "colab_type": "text"
      },
      "source": [
        "<a href=\"https://colab.research.google.com/github/brendhaed/Faculdade-ADS/blob/main/exemplo1.ipynb\" target=\"_parent\"><img src=\"https://colab.research.google.com/assets/colab-badge.svg\" alt=\"Open In Colab\"/></a>"
      ]
    },
    {
      "cell_type": "code",
      "source": [
        "print ('informe o primeiro valor:')\n",
        "valor1 = int (input())\n",
        "print ('informe o segundo valor:')\n",
        "valor2 = int (input())\n",
        "soma = valor1+valor2\n",
        "print ('soma =',soma)"
      ],
      "metadata": {
        "colab": {
          "base_uri": "https://localhost:8080/"
        },
        "id": "nOV0oTsTKZuA",
        "outputId": "aa97a33b-eb67-4bb8-b12c-6136d77ff5a7"
      },
      "execution_count": null,
      "outputs": [
        {
          "output_type": "stream",
          "name": "stdout",
          "text": [
            "informe o primeiro valor:\n",
            "10\n",
            "informe o segundo valor:\n",
            "5\n",
            "soma = 15\n"
          ]
        }
      ]
    },
    {
      "cell_type": "code",
      "source": [
        "va1 = 10\n",
        "print(va1)\n",
        "va2 = 20\n",
        "print(va2)\n",
        "num = 1.5\n",
        "print(num)\n",
        "msg = \"texto\"\n",
        "print(msg)\n"
      ],
      "metadata": {
        "colab": {
          "base_uri": "https://localhost:8080/"
        },
        "id": "eJE6rOx2T0gv",
        "outputId": "c48e5265-729a-49a8-8028-d3a7c24c1425"
      },
      "execution_count": null,
      "outputs": [
        {
          "output_type": "stream",
          "name": "stdout",
          "text": [
            "10\n",
            "20\n",
            "1.5\n",
            "texto\n"
          ]
        }
      ]
    },
    {
      "cell_type": "code",
      "source": [
        "val = 100\n",
        "num = 200\n",
        "aux = val\n",
        "val = num\n",
        "num = aux\n",
        "print(val)\n",
        "print(num)\n"
      ],
      "metadata": {
        "colab": {
          "base_uri": "https://localhost:8080/"
        },
        "id": "c0-WSkE-VQXv",
        "outputId": "b27b4986-1de0-49c7-ed4c-6729f95abba5"
      },
      "execution_count": null,
      "outputs": [
        {
          "output_type": "stream",
          "name": "stdout",
          "text": [
            "200\n",
            "100\n"
          ]
        }
      ]
    }
  ]
}