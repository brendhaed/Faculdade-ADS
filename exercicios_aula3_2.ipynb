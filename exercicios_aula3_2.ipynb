{
  "nbformat": 4,
  "nbformat_minor": 0,
  "metadata": {
    "colab": {
      "provenance": [],
      "authorship_tag": "ABX9TyMnLHlUslrtsZXstwXmA7Sg",
      "include_colab_link": true
    },
    "kernelspec": {
      "name": "python3",
      "display_name": "Python 3"
    },
    "language_info": {
      "name": "python"
    }
  },
  "cells": [
    {
      "cell_type": "markdown",
      "metadata": {
        "id": "view-in-github",
        "colab_type": "text"
      },
      "source": [
        "<a href=\"https://colab.research.google.com/github/brendhaed/Faculdade-ADS/blob/main/exercicios_aula3_2.ipynb\" target=\"_parent\"><img src=\"https://colab.research.google.com/assets/colab-badge.svg\" alt=\"Open In Colab\"/></a>"
      ]
    },
    {
      "cell_type": "code",
      "execution_count": null,
      "metadata": {
        "colab": {
          "base_uri": "https://localhost:8080/"
        },
        "id": "-u53OLmgyqej",
        "outputId": "97cb4232-ffaf-444c-9d11-988214792a37"
      },
      "outputs": [
        {
          "output_type": "stream",
          "name": "stdout",
          "text": [
            "Informe sua altura:\n",
            "1.55\n",
            "Informe seu gênero, usando 1 para feminino e 2 para masculino:\n",
            "3\n",
            "Genero inválido!, peso não calculado.\n",
            "Peso ideal 0\n"
          ]
        }
      ],
      "source": [
        "print(\"Informe sua altura:\")\n",
        "altura = float(input())\n",
        "print(\"Informe seu gênero, usando 1 para feminino e 2 para masculino:\")\n",
        "genero= int(input())\n",
        "\n",
        "if genero==1 : peso=62.1*altura - 44.7\n",
        "if genero==2 : peso=72.7*altura - 58\n",
        "if genero != 1 and genero != 2:\n",
        " print(\"Genero inválido!, peso não calculado.\")\n",
        "peso = 0\n",
        "print(\"Peso ideal\", peso)"
      ]
    }
  ]
}