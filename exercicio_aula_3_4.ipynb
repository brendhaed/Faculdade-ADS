{
  "nbformat": 4,
  "nbformat_minor": 0,
  "metadata": {
    "colab": {
      "provenance": [],
      "authorship_tag": "ABX9TyNP1e2QGgAKXj5/GApdk1t5"
    },
    "kernelspec": {
      "name": "python3",
      "display_name": "Python 3"
    },
    "language_info": {
      "name": "python"
    }
  },
  "cells": [
    {
      "cell_type": "code",
      "execution_count": 2,
      "metadata": {
        "colab": {
          "base_uri": "https://localhost:8080/"
        },
        "id": "EzxGWoK3dEyK",
        "outputId": "89c613ca-e85c-4a0a-8e88-fcbc0327869f"
      },
      "outputs": [
        {
          "output_type": "stream",
          "name": "stdout",
          "text": [
            "Informe o preço de custo:10\n",
            "Preço de venda é 15.0\n"
          ]
        }
      ],
      "source": [
        "preco = float(input(\"Informe o preço de custo:\"))\n",
        "if preco<0 : print(\"Valor inválido!\")\n",
        "else:\n",
        "  if preco<10: venda = preco * 1.7\n",
        "  if preco>=10 and preco<30: venda = preco * 1.5\n",
        "  if preco>=30 and preco<50: venda = preco * 1.4\n",
        "  if preco>=50: venda = preco * 1.3\n",
        "\n",
        "  print(\"Preço de venda é\", venda)"
      ]
    }
  ]
}